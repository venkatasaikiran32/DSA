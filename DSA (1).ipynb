{
  "nbformat": 4,
  "nbformat_minor": 0,
  "metadata": {
    "colab": {
      "provenance": []
    },
    "kernelspec": {
      "name": "python3",
      "display_name": "Python 3"
    },
    "language_info": {
      "name": "python"
    }
  },
  "cells": [
    {
      "cell_type": "code",
      "execution_count": null,
      "metadata": {
        "id": "RUdwC1NCx9S0"
      },
      "outputs": [],
      "source": []
    },
    {
      "cell_type": "markdown",
      "source": [
        "Problem 1: Reverse a singly linked list."
      ],
      "metadata": {
        "id": "tYk_pL7IyRs5"
      }
    },
    {
      "cell_type": "code",
      "source": [
        "class Node:\n",
        "    def __init__(self, data):\n",
        "        self.data = data\n",
        "        self.next = None\n",
        "\n"
      ],
      "metadata": {
        "id": "cECaCKPGyUbW"
      },
      "execution_count": null,
      "outputs": []
    },
    {
      "cell_type": "code",
      "source": [
        "def reverse_linked_list(head):\n",
        "    prev = None\n",
        "    current = head\n",
        "\n",
        "    while current is not None:\n",
        "        next_node = current.next  # Storing next node\n",
        "        current.next = prev       # Reversing current node's pointer\n",
        "        prev = current            # Moving pointers one position ahead\n",
        "        current = next_node\n",
        "\n",
        "    head = prev\n",
        "    return head\n"
      ],
      "metadata": {
        "id": "ExdEiY69ztfp"
      },
      "execution_count": null,
      "outputs": []
    },
    {
      "cell_type": "code",
      "source": [
        "# Helper function to print the linked list\n",
        "def print_list(head):\n",
        "    current = head\n",
        "    while current:\n",
        "        print(current.data, end=\" -> \")\n",
        "        current = current.next\n",
        "    print(\"None\")\n",
        "\n",
        "# Helper function to create a linked list from a list of values\n",
        "def create_linked_list(values):\n",
        "    if not values:\n",
        "        return None\n",
        "    head = Node(values[0])\n",
        "    current = head\n",
        "    for value in values[1:]:\n",
        "        current.next = Node(value)\n",
        "        current = current.next\n",
        "    return head\n",
        "\n",
        "# Create a linked list\n",
        "values = [1, 2, 3, 4, 5]\n",
        "head = create_linked_list(values)\n",
        "\n",
        "# Print original list\n",
        "print(\"Original list:\")\n",
        "print_list(head)\n",
        "\n",
        "# Reverse the linked list\n",
        "head = reverse_linked_list(head)\n",
        "\n",
        "# Print reversed list\n",
        "print(\"Reversed list:\")\n",
        "print_list(head)\n"
      ],
      "metadata": {
        "colab": {
          "base_uri": "https://localhost:8080/"
        },
        "id": "q7se4M8Hz2ic",
        "outputId": "357f3667-6dbd-47c7-fe1a-5eb99199ad01"
      },
      "execution_count": null,
      "outputs": [
        {
          "output_type": "stream",
          "name": "stdout",
          "text": [
            "Original list:\n",
            "1 -> 2 -> 3 -> 4 -> 5 -> None\n",
            "Reversed list:\n",
            "5 -> 4 -> 3 -> 2 -> 1 -> None\n"
          ]
        }
      ]
    },
    {
      "cell_type": "markdown",
      "source": [
        "Problem 2: Merge two sorted linked lists into one sorted linked list."
      ],
      "metadata": {
        "id": "wXb3e5y00FYh"
      }
    },
    {
      "cell_type": "code",
      "source": [
        "class Node:\n",
        "    def __init__(self, data):\n",
        "        self.data = data\n",
        "        self.next = None\n"
      ],
      "metadata": {
        "id": "gJsd2Ytlz3VM"
      },
      "execution_count": null,
      "outputs": []
    },
    {
      "cell_type": "code",
      "source": [
        "def merge_sorted_lists(list1, list2):\n",
        "    # Creating a dummy node to serve as the starting point of the merged list\n",
        "    dummy = Node(0)\n",
        "    current = dummy\n",
        "\n",
        "    # Pointers for both lists\n",
        "    p1 = list1\n",
        "    p2 = list2\n",
        "\n",
        "    # Traversing both lists and merge them\n",
        "    while p1 is not None and p2 is not None:\n",
        "        if p1.data < p2.data:\n",
        "            current.next = p1\n",
        "            p1 = p1.next\n",
        "        else:\n",
        "            current.next = p2\n",
        "            p2 = p2.next\n",
        "        current = current.next\n",
        "\n",
        "    # Attaching the remaining elements\n",
        "    if p1 is not None:\n",
        "        current.next = p1\n",
        "    if p2 is not None:\n",
        "        current.next = p2\n",
        "\n",
        "    # Return the merged list, skipping the dummy node\n",
        "    return dummy.next\n"
      ],
      "metadata": {
        "id": "RnuBiPmo0OC6"
      },
      "execution_count": null,
      "outputs": []
    },
    {
      "cell_type": "code",
      "source": [
        "# Helper function to print the linked list\n",
        "def print_list(head):\n",
        "    current = head\n",
        "    while current:\n",
        "        print(current.data, end=\" -> \")\n",
        "        current = current.next\n",
        "    print(\"None\")\n",
        "\n",
        "# Helper function to create a linked list from a list of values\n",
        "def create_linked_list(values):\n",
        "    if not values:\n",
        "        return None\n",
        "    head = Node(values[0])\n",
        "    current = head\n",
        "    for value in values[1:]:\n",
        "        current.next = Node(value)\n",
        "        current = current.next\n",
        "    return head\n",
        "\n",
        "# Creating two sorted linked lists\n",
        "list1 = create_linked_list([1, 3, 5, 7])\n",
        "list2 = create_linked_list([2, 4, 6, 8])\n",
        "\n",
        "# Printing original lists\n",
        "print(\"List 1:\")\n",
        "print_list(list1)\n",
        "print(\"List 2:\")\n",
        "print_list(list2)\n",
        "\n",
        "# Merging the two sorted lists\n",
        "merged_list = merge_sorted_lists(list1, list2)\n",
        "\n",
        "# Printing merged list\n",
        "print(\"Merged list:\")\n",
        "print_list(merged_list)\n"
      ],
      "metadata": {
        "colab": {
          "base_uri": "https://localhost:8080/"
        },
        "id": "9PrE9dgP0T6Y",
        "outputId": "d3bc176a-f9b8-4a29-a189-87bb0f1dc383"
      },
      "execution_count": null,
      "outputs": [
        {
          "output_type": "stream",
          "name": "stdout",
          "text": [
            "List 1:\n",
            "1 -> 3 -> 5 -> 7 -> None\n",
            "List 2:\n",
            "2 -> 4 -> 6 -> 8 -> None\n",
            "Merged list:\n",
            "1 -> 2 -> 3 -> 4 -> 5 -> 6 -> 7 -> 8 -> None\n"
          ]
        }
      ]
    },
    {
      "cell_type": "markdown",
      "source": [
        "This approach has a time complexity of O(n + m), where n and m are the lengths of the two lists, and a space complexity of O(1)."
      ],
      "metadata": {
        "id": "I-2d04dF_cDS"
      }
    },
    {
      "cell_type": "markdown",
      "source": [
        "Problem 3: Remove the nth node from the end of a linked list."
      ],
      "metadata": {
        "id": "DZvAdN-f_mGU"
      }
    },
    {
      "cell_type": "markdown",
      "source": [
        "To remove the nth node from the end of a singly linked list, we can use a two-pointer technique (also known as the \"two-pass\" or \"fast and slow pointers\" approach)"
      ],
      "metadata": {
        "id": "glK2rL2B_4dJ"
      }
    },
    {
      "cell_type": "code",
      "source": [
        "#defining the node class\n",
        "class Node:\n",
        "    def __init__(self, data):\n",
        "        self.data = data\n",
        "        self.next = None\n"
      ],
      "metadata": {
        "id": "lvHQar970cb_"
      },
      "execution_count": null,
      "outputs": []
    },
    {
      "cell_type": "code",
      "source": [
        "# Defining the Function to Remove the Nth Node from the End\n",
        "def remove_nth_from_end(head, n):\n",
        "    # Create a dummy node that points to the head of the list\n",
        "    dummy = Node(0)\n",
        "    dummy.next = head\n",
        "    fast = slow = dummy\n",
        "\n",
        "    # Move the fast pointer n+1 steps ahead to maintain a gap of n between fast and slow\n",
        "    for _ in range(n + 1):\n",
        "        fast = fast.next\n",
        "\n",
        "    # Move both pointers until fast reaches the end\n",
        "    while fast is not None:\n",
        "        fast = fast.next\n",
        "        slow = slow.next\n",
        "\n",
        "    # Slow pointer is now before the node to be deleted\n",
        "    slow.next = slow.next.next\n",
        "\n",
        "    # Return the head of the modified list\n",
        "    return dummy.next\n"
      ],
      "metadata": {
        "id": "gO_4cGhb__Jo"
      },
      "execution_count": null,
      "outputs": []
    },
    {
      "cell_type": "code",
      "source": [
        "#testing\n",
        "# Helper function to print the linked list\n",
        "def print_list(head):\n",
        "    current = head\n",
        "    while current:\n",
        "        print(current.data, end=\" -> \")\n",
        "        current = current.next\n",
        "    print(\"None\")\n",
        "\n",
        "# Helper function to create a linked list from a list of values\n",
        "def create_linked_list(values):\n",
        "    if not values:\n",
        "        return None\n",
        "    head = Node(values[0])\n",
        "    current = head\n",
        "    for value in values[1:]:\n",
        "        current.next = Node(value)\n",
        "        current = current.next\n",
        "    return head\n",
        "\n",
        "# Creating a linked list\n",
        "values = [1, 2, 3, 4, 5]\n",
        "head = create_linked_list(values)\n",
        "\n",
        "# Printing original list\n",
        "print(\"Original list:\")\n",
        "print_list(head)\n",
        "\n",
        "# Removing the nth node from the end (e.g., n = 2)\n",
        "n = int(input('enter n th position to remove:'))\n",
        "head = remove_nth_from_end(head, n)\n",
        "\n",
        "# Printing modified list\n",
        "print(f\"List after removing the {n}th node from the end:\")\n",
        "print_list(head)\n"
      ],
      "metadata": {
        "colab": {
          "base_uri": "https://localhost:8080/"
        },
        "id": "U3RpspuvAJv8",
        "outputId": "85f14b26-8756-445d-c2c7-23fc44a6e4f7"
      },
      "execution_count": null,
      "outputs": [
        {
          "output_type": "stream",
          "name": "stdout",
          "text": [
            "Original list:\n",
            "1 -> 2 -> 3 -> 4 -> 5 -> None\n",
            "enter n th position to remove:3\n",
            "List after removing the 3th node from the end:\n",
            "1 -> 2 -> 4 -> 5 -> None\n"
          ]
        }
      ]
    },
    {
      "cell_type": "markdown",
      "source": [
        "Explanation:\n",
        "\n",
        "\n",
        "Dummy Node: A dummy node is used to handle edge cases easily, such as when the node to remove is the head of the list.\n",
        "\n",
        "\n",
        "Two-Pointer Technique:\n",
        "\n",
        "Fast Pointer: Moves n+1 steps ahead. This ensures that when the fast pointer reaches the end, the slow pointer is exactly before the node to be deleted.\n",
        "Slow Pointer: Starts from the dummy node and follows the fast pointer after it moves n+1 steps.\n",
        "\n",
        "\n",
        "Remove the Node:\n",
        "\n",
        "After the loop, slow.next is the node to be removed. We adjust the pointers by skipping this node (slow.next = slow.next.next).\n",
        "Return: Return the modified list starting from dummy.next (since dummy is a placeholder).\n",
        "\n",
        "\n",
        "This approach works in O(n) time complexity and O(1) space complexity.\n",
        "\n",
        "\n",
        "\n",
        "\n",
        "\n",
        "\n",
        "\n"
      ],
      "metadata": {
        "id": "Uhi0NhScAbJG"
      }
    },
    {
      "cell_type": "markdown",
      "source": [],
      "metadata": {
        "id": "VCto4JCCAj7g"
      }
    },
    {
      "cell_type": "markdown",
      "source": [
        "To find the intersection point of two singly linked lists, we can use a technique that involves equalizing the lengths of the lists by advancing the pointers of the longer list. Once the pointers are aligned, we can move them simultaneously until they meet at the intersection point."
      ],
      "metadata": {
        "id": "Zs4UNVjxAxa0"
      }
    },
    {
      "cell_type": "code",
      "source": [
        "#defining the node\n",
        "class Node:\n",
        "    def __init__(self, data):\n",
        "        self.data = data\n",
        "        self.next = None\n",
        "\n"
      ],
      "metadata": {
        "id": "bEG5EQ0ZARMR"
      },
      "execution_count": null,
      "outputs": []
    },
    {
      "cell_type": "code",
      "source": [
        "#definingbthe function to find the intersection point\n",
        "def get_intersection_node(headA, headB):\n",
        "    if headA is None or headB is None:\n",
        "        return None\n",
        "\n",
        "    # Pointers for both lists\n",
        "    pointerA = headA\n",
        "    pointerB = headB\n",
        "\n",
        "    # Traverse both lists\n",
        "    while pointerA is not pointerB:\n",
        "        # If pointerA reaches the end of list A, start at the beginning of list B\n",
        "        pointerA = pointerA.next if pointerA else headB\n",
        "        # If pointerB reaches the end of list B, start at the beginning of list A\n",
        "        pointerB = pointerB.next if pointerB else headA\n",
        "\n",
        "    # Either both pointers are None (no intersection), or they meet at the intersection point\n",
        "    return pointerA\n"
      ],
      "metadata": {
        "id": "6__8PyNZA8W4"
      },
      "execution_count": null,
      "outputs": []
    },
    {
      "cell_type": "code",
      "source": [
        "#testing the function\n",
        "# Helper function to print the linked list from a given node\n",
        "def print_list_from_node(node):\n",
        "    while node:\n",
        "        print(node.data, end=\" -> \")\n",
        "        node = node.next\n",
        "    print(\"None\")\n",
        "\n",
        "# Create intersecting linked lists\n",
        "# List A: 1 -> 3 -> 5 -> 7 -> 9\n",
        "# List B:        4 -> 7 -> 9\n",
        "# Intersection at node with data = 7\n",
        "\n",
        "# Creating common part of the lists\n",
        "intersection = Node(7)\n",
        "intersection.next = Node(9)\n",
        "\n",
        "# Creating first list (List A)\n",
        "headA = Node(1)\n",
        "headA.next = Node(3)\n",
        "headA.next.next = Node(5)\n",
        "headA.next.next.next = intersection\n",
        "\n",
        "# Creating second list (List B)\n",
        "headB = Node(4)\n",
        "headB.next = intersection\n",
        "\n",
        "# Printing the lists\n",
        "print(\"List A:\")\n",
        "print_list_from_node(headA)\n",
        "print(\"List B:\")\n",
        "print_list_from_node(headB)\n",
        "\n",
        "# Finding and printing the intersection point\n",
        "intersection_node = get_intersection_node(headA, headB)\n",
        "if intersection_node:\n",
        "    print(f\"Intersection at node with data = {intersection_node.data}\")\n",
        "else:\n",
        "    print(\"No intersection found.\")\n"
      ],
      "metadata": {
        "colab": {
          "base_uri": "https://localhost:8080/"
        },
        "id": "Y8Ec4QfHBEH2",
        "outputId": "d7b39899-9f73-4bb2-a8d1-53b5dc32771b"
      },
      "execution_count": null,
      "outputs": [
        {
          "output_type": "stream",
          "name": "stdout",
          "text": [
            "List A:\n",
            "1 -> 3 -> 5 -> 7 -> 9 -> None\n",
            "List B:\n",
            "4 -> 7 -> 9 -> None\n",
            "Intersection at node with data = 7\n"
          ]
        }
      ]
    },
    {
      "cell_type": "markdown",
      "source": [
        "Explanation:\n",
        "\n",
        "\n",
        "Two-Pointer Technique:\n",
        "\n",
        "pointerA starts at the head of the first list (headA).\n",
        "pointerB starts at the head of the second list (headB).\n",
        "\n",
        "\n",
        "Traversal:\n",
        "\n",
        "If pointerA reaches the end of list A, it is redirected to the head of list B.\n",
        "If pointerB reaches the end of list B, it is redirected to the head of list A.\n",
        "This equalizes the length of both lists during traversal because both pointers will eventually traverse the same number of nodes.\n",
        "\n",
        "\n",
        "Finding the Intersection:\n",
        "\n",
        "The pointers will eventually either meet at the intersection node or reach the end (None) simultaneously, indicating no intersection.\n",
        "\n",
        "\n",
        "Return:\n",
        "\n",
        "The function returns the intersection node, or None if there is no intersection.\n",
        "\n",
        "\n",
        "\n",
        "Edge Cases:\n",
        "\n",
        "If one or both lists are empty, the function will return None.\n",
        "If the lists do not intersect, the function will return None.\n",
        "\n",
        "\n",
        "This approach works in O(n + m) time complexity, where n and m are the lengths of the two linked lists, and O(1) space complexity.\n",
        "\n",
        "\n",
        "\n",
        "\n",
        "\n",
        "\n",
        "\n"
      ],
      "metadata": {
        "id": "rKQr-1_5BPeJ"
      }
    },
    {
      "cell_type": "markdown",
      "source": [
        "Problem 5: Remove duplicates from a sorted linked list."
      ],
      "metadata": {
        "id": "UH7xFmxVBbga"
      }
    },
    {
      "cell_type": "markdown",
      "source": [
        "To remove duplicates from a sorted singly linked list, we can take advantage of the fact that the list is already sorted. This means that any duplicates will be adjacent to each other, making it easy to remove them in a single pass."
      ],
      "metadata": {
        "id": "leQ6zSrWBvRc"
      }
    },
    {
      "cell_type": "code",
      "source": [
        "#defining the node\n",
        "class Node:\n",
        "    def __init__(self, data):\n",
        "        self.data = data\n",
        "        self.next = None\n"
      ],
      "metadata": {
        "id": "WsI9iYhWBJjq"
      },
      "execution_count": null,
      "outputs": []
    },
    {
      "cell_type": "code",
      "source": [
        "#the function to remove duplicates\n",
        "def remove_duplicates(head):\n",
        "    current = head\n",
        "\n",
        "    while current and current.next:\n",
        "        if current.data == current.next.data:\n",
        "            # Skip the next node since it's a duplicate\n",
        "            current.next = current.next.next\n",
        "        else:\n",
        "            # Move to the next node\n",
        "            current = current.next\n",
        "\n",
        "    return head\n"
      ],
      "metadata": {
        "id": "h9D1e3MEB1pQ"
      },
      "execution_count": null,
      "outputs": []
    },
    {
      "cell_type": "code",
      "source": [
        "#testing the function\n",
        "# Helper function to print the linked list\n",
        "def print_list(head):\n",
        "    current = head\n",
        "    while current:\n",
        "        print(current.data, end=\" -> \")\n",
        "        current = current.next\n",
        "    print(\"None\")\n",
        "\n",
        "# Helper function to create a linked list from a list of values\n",
        "def create_linked_list(values):\n",
        "    if not values:\n",
        "        return None\n",
        "    head = Node(values[0])\n",
        "    current = head\n",
        "    for value in values[1:]:\n",
        "        current.next = Node(value)\n",
        "        current = current.next\n",
        "    return head\n",
        "\n",
        "# Creating a sorted linked list with duplicates\n",
        "values = [1, 1, 2, 3, 3, 4, 4, 4, 5]\n",
        "head = create_linked_list(values)\n",
        "\n",
        "# Printing original list\n",
        "print(\"Original list:\")\n",
        "print_list(head)\n",
        "\n",
        "# Removing duplicates\n",
        "head = remove_duplicates(head)\n",
        "\n",
        "# Printing modified list\n",
        "print(\"List after removing duplicates:\")\n",
        "print_list(head)\n"
      ],
      "metadata": {
        "colab": {
          "base_uri": "https://localhost:8080/"
        },
        "id": "yfi4RskTB5qj",
        "outputId": "23595cce-cb2a-47fa-c383-c8b4a4c0fdab"
      },
      "execution_count": null,
      "outputs": [
        {
          "output_type": "stream",
          "name": "stdout",
          "text": [
            "Original list:\n",
            "1 -> 1 -> 2 -> 3 -> 3 -> 4 -> 4 -> 4 -> 5 -> None\n",
            "List after removing duplicates:\n",
            "1 -> 2 -> 3 -> 4 -> 5 -> None\n"
          ]
        }
      ]
    },
    {
      "cell_type": "markdown",
      "source": [
        "Explanation:\n",
        "\n",
        "\n",
        "Traversal:\n",
        "\n",
        "Start at the head of the list and iterate through each node using the current pointer.\n",
        "\n",
        "\n",
        "Remove Duplicates:\n",
        "\n",
        "For each node, check if its data is the same as the data of the next node (current.next).\n",
        "If it is, update current.next to skip the next node (current.next = current.next.next), effectively removing the duplicate.\n",
        "If not, move the current pointer to the next node.\n",
        "\n",
        "\n",
        "\n",
        "Return:\n",
        "\n",
        "After the loop, return the modified list starting from the original head.\n",
        "\n",
        "\n",
        "Edge Cases:\n",
        "If the list is empty (head is None), the function will return None.\n",
        "If the list has only one node, no duplicates will be present, so the list will remain unchanged.\n",
        "\n",
        "\n",
        "This approach works in O(n) time complexity, where n is the number of nodes in the linked list, and O(1) space complexity."
      ],
      "metadata": {
        "id": "f-sNyjAgCCwG"
      }
    },
    {
      "cell_type": "markdown",
      "source": [
        "Problem 6: Add two numbers represented by linked lists (where each node contains a single digit)."
      ],
      "metadata": {
        "id": "OLjJwj35CLj6"
      }
    },
    {
      "cell_type": "markdown",
      "source": [
        "To add two numbers represented by linked lists, where each node contains a single digit, we can simulate the addition process as if you were adding two numbers by hand, digit by digit, starting from the least significant digit (i.e., the head of each linked list).\n",
        "\n"
      ],
      "metadata": {
        "id": "ChZ_ce-WCbtc"
      }
    },
    {
      "cell_type": "code",
      "source": [
        "#defining the node class\n",
        "class Node:\n",
        "    def __init__(self, data):\n",
        "        self.data = data\n",
        "        self.next = None\n"
      ],
      "metadata": {
        "id": "tVPd2jDqB-XU"
      },
      "execution_count": null,
      "outputs": []
    },
    {
      "cell_type": "code",
      "source": [
        "#definingbthe function to add two numbers\n",
        "def add_two_numbers(l1, l2):\n",
        "    dummy = Node(0)\n",
        "    current = dummy\n",
        "    carry = 0\n",
        "\n",
        "    while l1 is not None or l2 is not None:\n",
        "        # Getting the values from the current nodes or use 0 if the list is shorter\n",
        "        val1 = l1.data if l1 else 0\n",
        "        val2 = l2.data if l2 else 0\n",
        "\n",
        "        # Calculating the sum and the carry\n",
        "        total = val1 + val2 + carry\n",
        "        carry = total // 10\n",
        "        current.next = Node(total % 10)\n",
        "\n",
        "        # Moving to the next nodes\n",
        "        current = current.next\n",
        "        if l1:\n",
        "            l1 = l1.next\n",
        "        if l2:\n",
        "            l2 = l2.next\n",
        "\n",
        "    # If there's a carry left after the last addition, add a new node\n",
        "    if carry > 0:\n",
        "        current.next = Node(carry)\n",
        "\n",
        "    return dummy.next\n"
      ],
      "metadata": {
        "id": "BVa1gEDvClOy"
      },
      "execution_count": null,
      "outputs": []
    },
    {
      "cell_type": "code",
      "source": [
        "#testing function\n",
        "# Helper function to print the linked list\n",
        "def print_list(head):\n",
        "    current = head\n",
        "    while current:\n",
        "        print(current.data, end=\" -> \")\n",
        "        current = current.next\n",
        "    print(\"None\")\n",
        "\n",
        "# Helper function to create a linked list from a list of digits\n",
        "def create_linked_list(values):\n",
        "    if not values:\n",
        "        return None\n",
        "    head = Node(values[0])\n",
        "    current = head\n",
        "    for value in values[1:]:\n",
        "        current.next = Node(value)\n",
        "        current = current.next\n",
        "    return head\n",
        "\n",
        "# Create two linked lists representing the numbers 342 (3 -> 4 -> 2) and 465 (4 -> 6 -> 5)\n",
        "l1 = create_linked_list([3, 4, 2])\n",
        "l2 = create_linked_list([4, 6, 5])\n",
        "\n",
        "# Print original lists\n",
        "print(\"List 1:\")\n",
        "print_list(l1)\n",
        "print(\"List 2:\")\n",
        "print_list(l2)\n",
        "\n",
        "# Add the two numbers\n",
        "result = add_two_numbers(l1, l2)\n",
        "\n",
        "# Print the result\n",
        "print(\"Resultant list after addition:\")\n",
        "print_list(result)\n"
      ],
      "metadata": {
        "colab": {
          "base_uri": "https://localhost:8080/"
        },
        "id": "BdLJv4JTCqJk",
        "outputId": "a11e1a36-5d9d-4345-9066-0451a01cba8a"
      },
      "execution_count": null,
      "outputs": [
        {
          "output_type": "stream",
          "name": "stdout",
          "text": [
            "List 1:\n",
            "3 -> 4 -> 2 -> None\n",
            "List 2:\n",
            "4 -> 6 -> 5 -> None\n",
            "Resultant list after addition:\n",
            "7 -> 0 -> 8 -> None\n"
          ]
        }
      ]
    },
    {
      "cell_type": "markdown",
      "source": [
        "Explanation:\n",
        "Initialization:\n",
        "\n",
        "Create a dummy node to simplify handling the resulting linked list.\n",
        "Use a carry variable to store any carry-over during the addition.\n",
        "\n",
        "\n",
        "Addition:\n",
        "\n",
        "Traverse both linked lists simultaneously.\n",
        "For each node, extract the digit from l1 and l2 (or use 0 if one list is shorter).\n",
        "Add the digits along with any carry from the previous step.\n",
        "The new digit for the result is total % 10, and the carry for the next step is total // 10.\n",
        "Create a new node with the computed digit and link it to the result.\n",
        "\n",
        "Carry Handling:\n",
        "\n",
        "After processing all nodes, if there is a carry left, create a new node for it.\n",
        "Return:\n",
        "\n",
        "Return the resulting linked list starting from the node after the dummy.\n",
        "\n",
        "Example:\n",
        "List 1: 3 -> 4 -> 2 (represents the number 243)\n",
        "List 2: 4 -> 6 -> 5 (represents the number 564)\n",
        "\n",
        "\n",
        "\n",
        "Adding them:\n",
        "\n",
        "3 + 4 = 7\n",
        "4 + 6 = 10, so write 0 and carry over 1\n",
        "2 + 5 + 1 (carry) = 8\n",
        "Result: 7 -> 0 -> 8 (represents the number 807)\n",
        "\n",
        "Edge Cases:\n",
        "If one list is longer than the other, continue the addition using the remaining nodes of the longer list.\n",
        "If both lists are empty, the result is just a list with a single node 0.\n",
        "If the sum creates a new carry after the last addition, add a new node with the carry value.\n",
        "\n",
        "\n",
        "\n",
        "This approach works in O(max(n, m)) time complexity, where n and m are the lengths of the two linked lists, and O(max(n, m)) space complexity for the resulting linked list."
      ],
      "metadata": {
        "id": "MYLAJZHxC1VQ"
      }
    },
    {
      "cell_type": "markdown",
      "source": [
        "Problem 7: Swap nodes in pairs in a linked list."
      ],
      "metadata": {
        "id": "J3Z3mSBnDD38"
      }
    },
    {
      "cell_type": "markdown",
      "source": [
        "To swap nodes in pairs in a singly linked list, you need to iterate through the list and swap every two adjacent nodes. This process involves adjusting the next pointers of the nodes to rearrange them correctly."
      ],
      "metadata": {
        "id": "apQvboh4DJGN"
      }
    },
    {
      "cell_type": "code",
      "source": [
        "#defining the node\n",
        "class Node:\n",
        "    def __init__(self, data):\n",
        "        self.data = data\n",
        "        self.next = None\n"
      ],
      "metadata": {
        "id": "r4_NamlZCykZ"
      },
      "execution_count": null,
      "outputs": []
    },
    {
      "cell_type": "code",
      "source": [
        "# the Function to Swap Nodes in Pairs\n",
        "def swap_pairs(head):\n",
        "    # Create a dummy node to make handling head swaps easier\n",
        "    dummy = Node(0)\n",
        "    dummy.next = head\n",
        "    prev = dummy\n",
        "\n",
        "    while head and head.next:\n",
        "        # Nodes to be swapped\n",
        "        first_node = head\n",
        "        second_node = head.next\n",
        "\n",
        "        # Swapping the nodes\n",
        "        prev.next = second_node\n",
        "        first_node.next = second_node.next\n",
        "        second_node.next = first_node\n",
        "\n",
        "        # Moving pointers forward\n",
        "        prev = first_node\n",
        "        head = first_node.next\n",
        "\n",
        "    # Return the new head of the list\n",
        "    return dummy.next\n"
      ],
      "metadata": {
        "id": "X--t5ftyDS20"
      },
      "execution_count": null,
      "outputs": []
    },
    {
      "cell_type": "code",
      "source": [
        "#testing the function\n",
        "# Helper function to print the linked list\n",
        "def print_list(head):\n",
        "    current = head\n",
        "    while current:\n",
        "        print(current.data, end=\" -> \")\n",
        "        current = current.next\n",
        "    print(\"None\")\n",
        "\n",
        "# Helper function to create a linked list from a list of values\n",
        "def create_linked_list(values):\n",
        "    if not values:\n",
        "        return None\n",
        "    head = Node(values[0])\n",
        "    current = head\n",
        "    for value in values[1:]:\n",
        "        current.next = Node(value)\n",
        "        current = current.next\n",
        "    return head\n",
        "\n",
        "# Creating a linked list\n",
        "values = [1, 2, 3, 4, 5]\n",
        "head = create_linked_list(values)\n",
        "\n",
        "# Printing original list\n",
        "print(\"Original list:\")\n",
        "print_list(head)\n",
        "\n",
        "# Swap nodes in pairs\n",
        "new_head = swap_pairs(head)\n",
        "\n",
        "# Print the modified list\n",
        "print(\"List after swapping nodes in pairs:\")\n",
        "print_list(new_head)\n"
      ],
      "metadata": {
        "colab": {
          "base_uri": "https://localhost:8080/"
        },
        "id": "61tAOMnYDjrT",
        "outputId": "f8d2d37e-44d0-43bd-e820-fcd15222d5f3"
      },
      "execution_count": null,
      "outputs": [
        {
          "output_type": "stream",
          "name": "stdout",
          "text": [
            "Original list:\n",
            "1 -> 2 -> 3 -> 4 -> 5 -> None\n",
            "List after swapping nodes in pairs:\n",
            "2 -> 1 -> 4 -> 3 -> 5 -> None\n"
          ]
        }
      ]
    },
    {
      "cell_type": "markdown",
      "source": [
        "Problem 8: Reverse nodes in a linked list in groups of k."
      ],
      "metadata": {
        "id": "XzMrW6fvDw-J"
      }
    },
    {
      "cell_type": "markdown",
      "source": [
        "To reverse nodes in a linked list in groups of\n",
        "𝑘\n",
        ", we need to reverse every\n",
        "\n",
        "k nodes as a group. If the number of nodes remaining at the end of the list is less than\n",
        "𝑘\n",
        ", those nodes should remain as they are."
      ],
      "metadata": {
        "id": "aPtgqNvyD_7F"
      }
    },
    {
      "cell_type": "code",
      "source": [
        "#defining the node class\n",
        "class Node:\n",
        "    def __init__(self, data):\n",
        "        self.data = data\n",
        "        self.next = None\n",
        "\n"
      ],
      "metadata": {
        "id": "dzdm9brjDszo"
      },
      "execution_count": null,
      "outputs": []
    },
    {
      "cell_type": "code",
      "source": [
        "#defining the node class ro reverse nodes in a linked list in  group of k\n",
        "def reverse_k_group(head, k):\n",
        "    if not head or k == 1:\n",
        "        return head\n",
        "\n",
        "    # Create a dummy node to simplify handling head changes\n",
        "    dummy = Node(0)\n",
        "    dummy.next = head\n",
        "    prev_group_end = dummy\n",
        "\n",
        "    while True:\n",
        "        # Finding the k-th node from the current node\n",
        "        kth_node = prev_group_end\n",
        "        for _ in range(k):\n",
        "            kth_node = kth_node.next\n",
        "            if not kth_node:\n",
        "                return dummy.next  # Not enough nodes left to reverse\n",
        "\n",
        "        # Reversing the k nodes\n",
        "        group_start = prev_group_end.next\n",
        "        next_group_start = kth_node.next\n",
        "        prev, curr = None, group_start\n",
        "        while curr != next_group_start:\n",
        "            next_node = curr.next\n",
        "            curr.next = prev\n",
        "            prev = curr\n",
        "            curr = next_node\n",
        "\n",
        "        # Reconnecting the reversed group to the previous part of the list\n",
        "        prev_group_end.next = kth_node\n",
        "        group_start.next = next_group_start\n",
        "\n",
        "        # Moving prev_group_end to the end of the newly reversed group\n",
        "        prev_group_end = group_start\n",
        "\n",
        "    return dummy.next\n"
      ],
      "metadata": {
        "id": "1JUAHq3QENW1"
      },
      "execution_count": null,
      "outputs": []
    },
    {
      "cell_type": "code",
      "source": [
        "#testing function\n",
        "# Helper function to print the linked list\n",
        "def print_list(head):\n",
        "    current = head\n",
        "    while current:\n",
        "        print(current.data, end=\" -> \")\n",
        "        current = current.next\n",
        "    print(\"None\")\n",
        "\n",
        "# Helper function to create a linked list from a list of values\n",
        "def create_linked_list(values):\n",
        "    if not values:\n",
        "        return None\n",
        "    head = Node(values[0])\n",
        "    current = head\n",
        "    for value in values[1:]:\n",
        "        current.next = Node(value)\n",
        "        current = current.next\n",
        "    return head\n",
        "\n",
        "# Creating a linked list\n",
        "values = [1, 2, 3, 4, 5, 6, 7, 8]\n",
        "head = create_linked_list(values)\n",
        "\n",
        "# Printing original list\n",
        "print(\"Original list:\")\n",
        "print_list(head)\n",
        "\n",
        "# Reversing nodes in groups of k\n",
        "k = 3\n",
        "new_head = reverse_k_group(head, k)\n",
        "\n",
        "# Printing the modified list\n",
        "print(f\"List after reversing in groups of {k}:\")\n",
        "print_list(new_head)\n"
      ],
      "metadata": {
        "colab": {
          "base_uri": "https://localhost:8080/"
        },
        "id": "9Y4n0MEUFCnS",
        "outputId": "8ff060ac-93ad-4fad-f15f-0cd8ff08ed30"
      },
      "execution_count": null,
      "outputs": [
        {
          "output_type": "stream",
          "name": "stdout",
          "text": [
            "Original list:\n",
            "1 -> 2 -> 3 -> 4 -> 5 -> 6 -> 7 -> 8 -> None\n",
            "List after reversing in groups of 3:\n",
            "3 -> 2 -> 1 -> 6 -> 5 -> 4 -> 7 -> 8 -> None\n"
          ]
        }
      ]
    },
    {
      "cell_type": "markdown",
      "source": [
        "This approach works in O(n) time complexity, where n is the number of nodes in the linked list, and O(1) space complexity since the reversal is done in place."
      ],
      "metadata": {
        "id": "lN5sPt70FKWV"
      }
    },
    {
      "cell_type": "markdown",
      "source": [
        "Problem 9: Determine if a linked list is a palindrome."
      ],
      "metadata": {
        "id": "Hilc7HnNFP8k"
      }
    },
    {
      "cell_type": "markdown",
      "source": [
        "To determine if a singly linked list is a palindrome, we need to check if the list reads the same forwards and backwards. There are several ways to achieve this, but a common and efficient approach involves using a two-pointer technique to find the middle of the list, reversing the second half of the list, and then comparing it with the first half."
      ],
      "metadata": {
        "id": "MqAJIwiXFs4F"
      }
    },
    {
      "cell_type": "code",
      "source": [
        "#defining the node class\n",
        "class Node:\n",
        "    def __init__(self, data):\n",
        "        self.data = data\n",
        "        self.next = None\n"
      ],
      "metadata": {
        "id": "57lEaUNPFGBM"
      },
      "execution_count": null,
      "outputs": []
    },
    {
      "cell_type": "code",
      "source": [
        "#function to check whether the linked list is palindrome\n",
        "def is_palindrome(head):\n",
        "    if not head or not head.next:\n",
        "        return True\n",
        "\n",
        "    # Step 1: Finding the middle of the linked list using the slow and fast pointers\n",
        "    slow, fast = head, head\n",
        "    while fast and fast.next:\n",
        "        slow = slow.next\n",
        "        fast = fast.next.next\n",
        "\n",
        "    # Step 2: Reversing the second half of the linked list\n",
        "    prev, curr = None, slow\n",
        "    while curr:\n",
        "        next_node = curr.next\n",
        "        curr.next = prev\n",
        "        prev = curr\n",
        "        curr = next_node\n",
        "\n",
        "    # Step 3: Comparing the first half and the reversed second half\n",
        "    first_half, second_half = head, prev\n",
        "    while second_half:\n",
        "        if first_half.data != second_half.data:\n",
        "            return False\n",
        "        first_half = first_half.next\n",
        "        second_half = second_half.next\n",
        "\n",
        "    return True\n"
      ],
      "metadata": {
        "id": "I81Ouy-XF3ks"
      },
      "execution_count": null,
      "outputs": []
    },
    {
      "cell_type": "code",
      "source": [
        "#testing function\n",
        "# Helper function to create a linked list from a list of values\n",
        "def create_linked_list(values):\n",
        "    if not values:\n",
        "        return None\n",
        "    head = Node(values[0])\n",
        "    current = head\n",
        "    for value in values[1:]:\n",
        "        current.next = Node(value)\n",
        "        current = current.next\n",
        "    return head\n",
        "\n",
        "# Test case 1: A palindrome linked list\n",
        "values = [1, 2, 3, 2, 1]\n",
        "head = create_linked_list(values)\n",
        "print(\"Is palindrome:\", is_palindrome(head))\n",
        "\n",
        "# Test case 2: Not a palindrome linked list\n",
        "values = [1, 2, 3, 4, 5]\n",
        "head = create_linked_list(values)\n",
        "print(\"Is palindrome:\", is_palindrome(head))\n"
      ],
      "metadata": {
        "colab": {
          "base_uri": "https://localhost:8080/"
        },
        "id": "qFMHqWzRGDij",
        "outputId": "78fede38-fc5f-4720-9de5-609f7e090ab6"
      },
      "execution_count": null,
      "outputs": [
        {
          "output_type": "stream",
          "name": "stdout",
          "text": [
            "Is palindrome: True\n",
            "Is palindrome: False\n"
          ]
        }
      ]
    },
    {
      "cell_type": "markdown",
      "source": [
        "Time and Space Complexity:\n",
        "\n",
        "Time Complexity: O(n), where n is the number of nodes in the list. Finding the middle, reversing the second half, and comparing both halves each take linear time.\n",
        "Space Complexity: O(1), as the operations are performed in place without using extra space.\n",
        "\n",
        "\n",
        "\n",
        "\n",
        "\n",
        "\n"
      ],
      "metadata": {
        "id": "CepldaHJGUa_"
      }
    },
    {
      "cell_type": "markdown",
      "source": [
        "Problem 10: Rotate a linked list to the right by k places."
      ],
      "metadata": {
        "id": "7hXwfUkYGZ0k"
      }
    },
    {
      "cell_type": "code",
      "source": [
        "#defining the node class\n",
        "class Node:\n",
        "    def __init__(self, data):\n",
        "        self.data = data\n",
        "        self.next = None\n"
      ],
      "metadata": {
        "id": "wJNf8KoYGQXi"
      },
      "execution_count": null,
      "outputs": []
    },
    {
      "cell_type": "code",
      "source": [
        "#defining the function to rotate a linked list to the right by k places\n",
        "def rotate_right(head, k):\n",
        "    if not head or k == 0:\n",
        "        return head\n",
        "\n",
        "    # Step 1: Determining the length of the linked list and the tail node\n",
        "    length = 1\n",
        "    tail = head\n",
        "    while tail.next:\n",
        "        tail = tail.next\n",
        "        length += 1\n",
        "\n",
        "    # Step 2: Adjusting k to be within the range of the length\n",
        "    k = k % length\n",
        "    if k == 0:\n",
        "        return head\n",
        "\n",
        "    # Step 3: Finding the new tail and new head\n",
        "    new_tail = head\n",
        "    for _ in range(length - k - 1):\n",
        "        new_tail = new_tail.next\n",
        "\n",
        "    new_head = new_tail.next\n",
        "\n",
        "    # Step 4: Rotating the linked list\n",
        "    new_tail.next = None\n",
        "    tail.next = head\n",
        "\n",
        "    return new_head\n",
        "\n"
      ],
      "metadata": {
        "id": "spi_5UQWGoAJ"
      },
      "execution_count": null,
      "outputs": []
    },
    {
      "cell_type": "code",
      "source": [
        "#testing function\n",
        "# Helper function to print the linked list\n",
        "def print_list(head):\n",
        "    current = head\n",
        "    while current:\n",
        "        print(current.data, end=\" -> \")\n",
        "        current = current.next\n",
        "    print(\"None\")\n",
        "\n",
        "# Helper function to create a linked list from a list of values\n",
        "def create_linked_list(values):\n",
        "    if not values:\n",
        "        return None\n",
        "    head = Node(values[0])\n",
        "    current = head\n",
        "    for value in values[1:]:\n",
        "        current.next = Node(value)\n",
        "        current = current.next\n",
        "    return head\n",
        "\n",
        "# Creating a linked list\n",
        "values = [1, 2, 3, 4, 5]\n",
        "head = create_linked_list(values)\n",
        "\n",
        "# Printing original list\n",
        "print(\"Original list:\")\n",
        "print_list(head)\n",
        "\n",
        "# Rotating the list by k places\n",
        "k = 2\n",
        "new_head = rotate_right(head, k)\n",
        "\n",
        "# Printing the modified list\n",
        "print(f\"List after rotating by {k} places to the right:\")\n",
        "print_list(new_head)\n"
      ],
      "metadata": {
        "colab": {
          "base_uri": "https://localhost:8080/"
        },
        "id": "3u7enxEIGz5A",
        "outputId": "43931784-2af0-485a-a8b1-df53372287a0"
      },
      "execution_count": null,
      "outputs": [
        {
          "output_type": "stream",
          "name": "stdout",
          "text": [
            "Original list:\n",
            "1 -> 2 -> 3 -> 4 -> 5 -> None\n",
            "List after rotating by 2 places to the right:\n",
            "4 -> 5 -> 1 -> 2 -> 3 -> None\n"
          ]
        }
      ]
    },
    {
      "cell_type": "markdown",
      "source": [
        "Time and Space Complexity:\n",
        "\n",
        "Time Complexity: O(n), where n is the number of nodes in the linked list. The list is traversed twice—once to find the length and the tail, and once to adjust the next pointers.\n",
        "\n",
        "Space Complexity: O(1), as no additional space is used beyond a few pointers."
      ],
      "metadata": {
        "id": "FnpIW1fnHARd"
      }
    },
    {
      "cell_type": "markdown",
      "source": [
        "Problem 11: Flatten a multilevel doubly linked list."
      ],
      "metadata": {
        "id": "zKc4yzbfHFMA"
      }
    },
    {
      "cell_type": "markdown",
      "source": [
        "Flattening a multilevel doubly linked list involves transforming it into a single-level doubly linked list, where all nodes appear in a single sequence, following the next pointers and including nodes from any nested levels in their original order."
      ],
      "metadata": {
        "id": "ndmML7exHPIs"
      }
    },
    {
      "cell_type": "code",
      "source": [
        "#defining the node class\n",
        "class Node:\n",
        "    def __init__(self, data):\n",
        "        self.data = data\n",
        "        self.next = None\n",
        "        self.prev = None\n",
        "        self.child = None\n"
      ],
      "metadata": {
        "id": "LxNlfKx0G8kq"
      },
      "execution_count": null,
      "outputs": []
    },
    {
      "cell_type": "code",
      "source": [
        "#defining function to flatten the linked list\n",
        "def flatten(head):\n",
        "    if not head:\n",
        "        return head\n",
        "\n",
        "    # Pointer to iterate through the list\n",
        "    current = head\n",
        "\n",
        "    while current:\n",
        "        if current.child:\n",
        "            # If the node has a child, we need to flatten the child list\n",
        "            child = current.child\n",
        "\n",
        "            # Finding the tail of the child list\n",
        "            child_tail = child\n",
        "            while child_tail.next:\n",
        "                child_tail = child_tail.next\n",
        "\n",
        "            # Connecting the child list to the current node's next node\n",
        "            if current.next:\n",
        "                current.next.prev = child_tail\n",
        "                child_tail.next = current.next\n",
        "\n",
        "            # Connecting the current node to the child list\n",
        "            current.next = child\n",
        "            child.prev = current\n",
        "\n",
        "            # Disconnecting the child pointer (as it's now part of the main list)\n",
        "            current.child = None\n",
        "\n",
        "        # Move to the next node\n",
        "        current = current.next\n",
        "\n",
        "    return head\n",
        "\n"
      ],
      "metadata": {
        "id": "yeVdlEClHbi1"
      },
      "execution_count": null,
      "outputs": []
    },
    {
      "cell_type": "code",
      "source": [
        "#testing the function\n",
        "# Helper function to print the doubly linked list\n",
        "def print_list(head):\n",
        "    current = head\n",
        "    while current:\n",
        "        print(current.data, end=\" <-> \" if current.next else \" -> None\\n\")\n",
        "        current = current.next\n",
        "\n",
        "# Creating a multilevel doubly linked list manually\n",
        "head = Node(1)\n",
        "node2 = Node(2)\n",
        "node3 = Node(3)\n",
        "node4 = Node(4)\n",
        "node5 = Node(5)\n",
        "node6 = Node(6)\n",
        "\n",
        "head.next = node2\n",
        "node2.prev = head\n",
        "node2.next = node3\n",
        "node3.prev = node2\n",
        "node3.next = node4\n",
        "node4.prev = node3\n",
        "node4.next = node5\n",
        "node5.prev = node4\n",
        "node5.next = node6\n",
        "node6.prev = node5\n",
        "\n",
        "# Creating a child list\n",
        "child1 = Node(7)\n",
        "child2 = Node(8)\n",
        "child3 = Node(9)\n",
        "child4 = Node(10)\n",
        "\n",
        "node3.child = child1\n",
        "child1.next = child2\n",
        "child2.prev = child1\n",
        "child2.child = child3\n",
        "child3.next = child4\n",
        "child4.prev = child3\n",
        "\n",
        "# Printing original list structure\n",
        "print(\"Original list structure:\")\n",
        "print_list(head)\n",
        "\n",
        "# Flattening the list\n",
        "flattened_head = flatten(head)\n",
        "\n",
        "# Printing flattened list\n",
        "print(\"Flattened list:\")\n",
        "print_list(flattened_head)\n"
      ],
      "metadata": {
        "colab": {
          "base_uri": "https://localhost:8080/"
        },
        "id": "SMrT9awPHnnB",
        "outputId": "685b6042-597f-4f0e-d8ad-65ae76201c59"
      },
      "execution_count": null,
      "outputs": [
        {
          "output_type": "stream",
          "name": "stdout",
          "text": [
            "Original list structure:\n",
            "1 <-> 2 <-> 3 <-> 4 <-> 5 <-> 6 -> None\n",
            "Flattened list:\n",
            "1 <-> 2 <-> 3 <-> 7 <-> 8 <-> 9 <-> 10 <-> 4 <-> 5 <-> 6 -> None\n"
          ]
        }
      ]
    },
    {
      "cell_type": "markdown",
      "source": [
        "Time and Space Complexity:\n",
        "\n",
        "Time Complexity: O(n), where n is the total number of nodes, including those in the child lists. Each node is visited once.\n",
        "Space Complexity: O(1), as the list is flattened in place without using additional space."
      ],
      "metadata": {
        "id": "mFMZu8djHyxp"
      }
    },
    {
      "cell_type": "markdown",
      "source": [
        "Problem 12: Rearrange a linked list such that all even positioned nodes are placed at the end."
      ],
      "metadata": {
        "id": "iJBlSy5YIEl8"
      }
    },
    {
      "cell_type": "markdown",
      "source": [
        "To rearrange a linked list such that all nodes at even positions are moved to the end while preserving the relative order of nodes,\n",
        " we can follow these steps:\n",
        "\n",
        "Separate the Nodes: Traverse the list and separate nodes into two lists: one for nodes at odd positions and one for nodes at even positions.\n",
        "\n",
        "Concatenate the Lists: Append the even-positioned list to the end of the odd-positioned list.\n",
        "\n",
        "Adjust Pointers: Ensure that the pointers are correctly adjusted to form a single linked list."
      ],
      "metadata": {
        "id": "9S7MiiGJIOwd"
      }
    },
    {
      "cell_type": "code",
      "source": [
        "#defining the node class\n",
        "class Node:\n",
        "    def __init__(self, data):\n",
        "        self.data = data\n",
        "        self.next = None\n"
      ],
      "metadata": {
        "id": "lZG0bOPQHyEB"
      },
      "execution_count": null,
      "outputs": []
    },
    {
      "cell_type": "code",
      "source": [
        "#defining the function to Rearrange a linked list such that all even positioned nodes are placed at the end.\n",
        "def rearrange_even_odd(head):\n",
        "    if not head or not head.next:\n",
        "        return head\n",
        "\n",
        "    # Initializing pointers for odd and even lists\n",
        "    odd_head = odd = head\n",
        "    even_head = even = head.next\n",
        "\n",
        "    # Traversing the list to separate odd and even positioned nodes\n",
        "    current = head.next.next\n",
        "    is_odd = True\n",
        "\n",
        "    while current:\n",
        "        if is_odd:\n",
        "            odd.next = current\n",
        "            odd = odd.next\n",
        "        else:\n",
        "            even.next = current\n",
        "            even = even.next\n",
        "        is_odd = not is_odd\n",
        "        current = current.next\n",
        "\n",
        "    # Terminating the even list\n",
        "    even.next = None\n",
        "\n",
        "    # Appending  the even list to the end of the odd list\n",
        "    odd.next = even_head\n",
        "\n",
        "    return odd_head\n"
      ],
      "metadata": {
        "id": "iuLR0cXwIZIx"
      },
      "execution_count": null,
      "outputs": []
    },
    {
      "cell_type": "code",
      "source": [
        "#testing the function\n",
        "# Helper function to print the linked list\n",
        "def print_list(head):\n",
        "    current = head\n",
        "    while current:\n",
        "        print(current.data, end=\" -> \" if current.next else \" -> None\\n\")\n",
        "        current = current.next\n",
        "\n",
        "# Creating a linked list\n",
        "values = [1, 2, 3, 4, 5, 6, 7, 8]\n",
        "head = create_linked_list(values)\n",
        "\n",
        "# Printing original list\n",
        "print(\"Original list:\")\n",
        "print_list(head)\n",
        "\n",
        "# Rearranging the list\n",
        "new_head = rearrange_even_odd(head)\n",
        "\n",
        "# Printing the rearranged list\n",
        "print(\"Rearranged list with even-positioned nodes at the end:\")\n",
        "print_list(new_head)\n"
      ],
      "metadata": {
        "colab": {
          "base_uri": "https://localhost:8080/"
        },
        "id": "t-Ud-c4SIl-i",
        "outputId": "90859577-2cb0-41e0-9c92-c6908b0b105b"
      },
      "execution_count": null,
      "outputs": [
        {
          "output_type": "stream",
          "name": "stdout",
          "text": [
            "Original list:\n",
            "1 -> 2 -> 3 -> 4 -> 5 -> 6 -> 7 -> 8 -> None\n",
            "Rearranged list with even-positioned nodes at the end:\n",
            "1 -> 3 -> 5 -> 7 -> 2 -> 4 -> 6 -> 8 -> None\n"
          ]
        }
      ]
    },
    {
      "cell_type": "markdown",
      "source": [
        "Time and Space Complexity:\n",
        "\n",
        "Time Complexity: O(n), where n is the number of nodes in the list. The list is traversed once to separate nodes and once to rearrange them.\n",
        "Space Complexity: O(1), as the rearrangement is done in place without using additional space."
      ],
      "metadata": {
        "id": "QHDRUY5jIyQG"
      }
    },
    {
      "cell_type": "markdown",
      "source": [
        "Problem 13: Given a non-negative number represented as a linked list, add one to it."
      ],
      "metadata": {
        "id": "xdtlOINTI0gj"
      }
    },
    {
      "cell_type": "code",
      "source": [
        "#defining the node\n",
        "class Node:\n",
        "    def __init__(self, data):\n",
        "        self.data = data\n",
        "        self.next = None\n"
      ],
      "metadata": {
        "id": "bnIPrDJbIt86"
      },
      "execution_count": null,
      "outputs": []
    },
    {
      "cell_type": "code",
      "source": [
        "#defining the helper functions\n",
        "# Reversing a linked list\n",
        "def reverse_list(head):\n",
        "    prev = None\n",
        "    current = head\n",
        "    while current:\n",
        "        next_node = current.next\n",
        "        current.next = prev\n",
        "        prev = current\n",
        "        current = next_node\n",
        "    return prev\n",
        "\n",
        "# Add one to the reversed linked list\n",
        "def add_one_to_reversed_list(head):\n",
        "    current = head\n",
        "    carry = 1  # Start with the carry of one\n",
        "    prev = None\n",
        "\n",
        "    while current and carry:\n",
        "        sum = current.data + carry\n",
        "        carry = sum // 10\n",
        "        current.data = sum % 10\n",
        "        prev = current\n",
        "        current = current.next\n",
        "\n",
        "    # If carry is still left after processing all nodes, create a new node\n",
        "    if carry:\n",
        "        prev.next = Node(carry)\n",
        "\n",
        "    return head\n",
        "\n",
        "# Printing the linked list\n",
        "def print_list(head):\n",
        "    current = head\n",
        "    while current:\n",
        "        print(current.data, end=\" -> \" if current.next else \" -> None\\n\")\n",
        "        current = current.next\n",
        "\n"
      ],
      "metadata": {
        "id": "hrlEI6efJC-a"
      },
      "execution_count": null,
      "outputs": []
    },
    {
      "cell_type": "code",
      "source": [
        "#main function\n",
        "def add_one(head):\n",
        "    if not head:\n",
        "        return Node(1)\n",
        "\n",
        "    # Step 1: Reversing the linked list\n",
        "    reversed_head = reverse_list(head)\n",
        "\n",
        "    # Step 2: Add one to the reversed list\n",
        "    updated_head = add_one_to_reversed_list(reversed_head)\n",
        "\n",
        "    # Step 3: Reversing the list again to restore original order\n",
        "    final_head = reverse_list(updated_head)\n",
        "\n",
        "    return final_head\n"
      ],
      "metadata": {
        "id": "oa_ML1T9JQ_Y"
      },
      "execution_count": null,
      "outputs": []
    },
    {
      "cell_type": "code",
      "source": [
        "#testing the function\n",
        "# Helper function to create a linked list from a list of values\n",
        "def create_linked_list(values):\n",
        "    if not values:\n",
        "        return None\n",
        "    head = Node(values[0])\n",
        "    current = head\n",
        "    for value in values[1:]:\n",
        "        current.next = Node(value)\n",
        "        current = current.next\n",
        "    return head\n",
        "\n",
        "# Creating a linked list representing the number 123\n",
        "values = [1, 2, 3]\n",
        "head = create_linked_list(values)\n",
        "\n",
        "# Printing original list\n",
        "print(\"Original list:\")\n",
        "print_list(head)\n",
        "\n",
        "# Add one to the linked list\n",
        "new_head = add_one(head)\n",
        "\n",
        "# Printing the updated list\n",
        "print(\"List after adding one:\")\n",
        "print_list(new_head)\n"
      ],
      "metadata": {
        "colab": {
          "base_uri": "https://localhost:8080/"
        },
        "id": "v9zlvFTlJZ96",
        "outputId": "9df66bb5-5887-4d41-cb77-7e4b4cd0902f"
      },
      "execution_count": null,
      "outputs": [
        {
          "output_type": "stream",
          "name": "stdout",
          "text": [
            "Original list:\n",
            "1 -> 2 -> 3 -> None\n",
            "List after adding one:\n",
            "1 -> 2 -> 4 -> None\n"
          ]
        }
      ]
    },
    {
      "cell_type": "markdown",
      "source": [
        "Time and Space Complexity:\n",
        "\n",
        "Time Complexity: O(n), where n is the number of nodes in the linked list. The list is traversed three times: once to reverse, once to add one, and once to reverse back.\n",
        "Space Complexity: O(1), as no additional space is used beyond a few pointers."
      ],
      "metadata": {
        "id": "LLBJbfeIJms5"
      }
    },
    {
      "cell_type": "markdown",
      "source": [
        "Problem 14: Given a sorted array and a target value, return the index if the target is found. If not, return the\n",
        "index where it would be inserted."
      ],
      "metadata": {
        "id": "n0JMme3AJo9j"
      }
    },
    {
      "cell_type": "code",
      "source": [
        "def search_insert_position(nums, target):\n",
        "    \"\"\"\n",
        "    Find the index of the target in a sorted array or the index where it should be inserted.\n",
        "\n",
        "    Args:\n",
        "    nums (List[int]): A list of sorted integers.\n",
        "    target (int): The target value to find or insert.\n",
        "\n",
        "    Returns:\n",
        "    int: The index of the target or the index where it should be inserted.\n",
        "    \"\"\"\n",
        "    left, right = 0, len(nums) - 1\n",
        "\n",
        "    while left <= right:\n",
        "        mid = (left + right) // 2\n",
        "\n",
        "        if nums[mid] == target:\n",
        "            return mid\n",
        "        elif nums[mid] < target:\n",
        "            left = mid + 1\n",
        "        else:\n",
        "            right = mid - 1\n",
        "\n",
        "    return left\n",
        "\n",
        "\n",
        "\n",
        "#testing\n",
        "print(search_insert_position([1,2,3,4], 3) ) #3 already present so it has return index position\n",
        "print(search_insert_position([1,2,3,4],5)) #5 not present so it have returned insdex where it can be inserted in that sorted array\n",
        "\n",
        "\n",
        "\n"
      ],
      "metadata": {
        "colab": {
          "base_uri": "https://localhost:8080/"
        },
        "id": "EvDHaV1DJh0p",
        "outputId": "436b8b7a-f288-4a1c-fa09-1dc17aa93c79"
      },
      "execution_count": null,
      "outputs": [
        {
          "output_type": "stream",
          "name": "stdout",
          "text": [
            "2\n",
            "4\n"
          ]
        }
      ]
    },
    {
      "cell_type": "markdown",
      "source": [
        "Time and Space Complexity\n",
        "\n",
        "Time Complexity: O(log n), where n is the number of elements in the array. This is due to the binary search algorithm.\n",
        "Space Complexity: O(1), as only a few pointers and variables are used, regardless of the input size."
      ],
      "metadata": {
        "id": "TatgQXxNMg0c"
      }
    },
    {
      "cell_type": "markdown",
      "source": [
        "Problem 15: Find the minimum element in a rotated sorted array."
      ],
      "metadata": {
        "id": "eN87-UV6Mljy"
      }
    },
    {
      "cell_type": "markdown",
      "source": [
        "  to find the minimum element in a rotated sorted array, we can use a modified binary search approach. In a rotated sorted array, the array was originally sorted in ascending order but then rotated at some pivot point. The goal is to find the smallest element, which will be the point of rotation."
      ],
      "metadata": {
        "id": "xenU8YwTMxCW"
      }
    },
    {
      "cell_type": "code",
      "source": [
        "def find_min_in_rotated_sorted_array(nums):\n",
        "    \"\"\"\n",
        "    Finding the minimum element in a rotated sorted array.\n",
        "\n",
        "    \"\"\"\n",
        "    if not nums:\n",
        "        raise ValueError(\"Input array is empty\")\n",
        "\n",
        "    left, right = 0, len(nums) - 1\n",
        "\n",
        "    while left < right:\n",
        "        mid = (left + right) // 2\n",
        "\n",
        "        if nums[mid] > nums[right]:\n",
        "            # Minimum must be in the right half\n",
        "            left = mid + 1\n",
        "        else:\n",
        "            # Minimum could be the middle element or in the left half\n",
        "            right = mid\n",
        "\n",
        "    # At the end of the loop, left == right, pointing to the minimum element\n",
        "    return nums[left]\n",
        "\n",
        "# Test the function with various inputs\n",
        "def test_find_min_in_rotated_sorted_array():\n",
        "    test_cases = [\n",
        "        ([4, 5, 6, 7, 0, 1, 2], 0),     # Array rotated, minimum is 0\n",
        "        ([11, 13, 15, 17, 19, 3, 5, 7], 3), # Array rotated, minimum is 3\n",
        "        ([2, 2, 2, 0, 1], 0),           # Array with duplicates, minimum is 0\n",
        "        ([1, 2, 3, 4, 5], 1),           # Not rotated, minimum is 1\n",
        "        ([3, 4, 5, 1, 2], 1)            # Array rotated, minimum is 1\n",
        "    ]\n",
        "\n",
        "    for nums, expected in test_cases:\n",
        "        result = find_min_in_rotated_sorted_array(nums)\n",
        "        assert result == expected, f\"Test failed for {nums}. Expected {expected}, but got {result}\"\n",
        "\n",
        "    print(\"All test cases passed!\")\n",
        "\n",
        "# Run the tests\n",
        "test_find_min_in_rotated_sorted_array()\n",
        "\n",
        "\n"
      ],
      "metadata": {
        "colab": {
          "base_uri": "https://localhost:8080/"
        },
        "id": "c6XU_22DKQME",
        "outputId": "2d2b6a46-7cb8-40f2-98fa-ff8b83a8f917"
      },
      "execution_count": null,
      "outputs": [
        {
          "output_type": "stream",
          "name": "stdout",
          "text": [
            "All test cases passed!\n"
          ]
        }
      ]
    },
    {
      "cell_type": "markdown",
      "source": [
        "all test cases are passes that means above code is correctly working"
      ],
      "metadata": {
        "id": "43ceEwExNTLR"
      }
    },
    {
      "cell_type": "markdown",
      "source": [
        "Time and Space Complexity\n",
        "\n",
        "Time Complexity: O(log n), where n is the number of elements in the array. This is due to the binary search algorithm.\n",
        "Space Complexity: O(1), as only a few variables are used for pointers and indices."
      ],
      "metadata": {
        "id": "VY69XPXENaLI"
      }
    },
    {
      "cell_type": "markdown",
      "source": [
        "Problem 16: Search for a target value in a rotated sorted array."
      ],
      "metadata": {
        "id": "Yndf0CLoNfsO"
      }
    },
    {
      "cell_type": "code",
      "source": [
        "def search_target_in_rotated_sorted_array(nums, target):\n",
        "    \"\"\"\n",
        "    Searches for the target value in a rotated sorted array.\n",
        "\n",
        "    \"\"\"\n",
        "    if not nums:\n",
        "        return -1\n",
        "\n",
        "    left, right = 0, len(nums) - 1\n",
        "\n",
        "    while left <= right:\n",
        "        mid = (left + right) // 2\n",
        "\n",
        "        if nums[mid] == target:\n",
        "            return mid\n",
        "\n",
        "        # Determining which half is sorted\n",
        "        if nums[left] <= nums[mid]:\n",
        "            # Left half is sorted\n",
        "            if nums[left] <= target < nums[mid]:\n",
        "                right = mid - 1\n",
        "            else:\n",
        "                left = mid + 1\n",
        "        else:\n",
        "            # Right half is sorted\n",
        "            if nums[mid] < target <= nums[right]:\n",
        "                left = mid + 1\n",
        "            else:\n",
        "                right = mid - 1\n",
        "\n",
        "    return -1\n",
        "\n",
        "# Example 1: Target present in the array\n",
        "nums1 = [4, 5, 6, 7, 0, 1, 2]\n",
        "target1 = 0\n",
        "print(f\"Example 1: Search for target {target1} in {nums1}\")\n",
        "print(\"Index:\", search_target_in_rotated_sorted_array(nums1, target1))\n",
        "\n",
        "# Example 2: Target not present in the array\n",
        "nums2 = [4, 5, 6, 7, 0, 1, 2]\n",
        "target2 = 3\n",
        "print(f\"\\nExample 2: Search for target {target2} in {nums2}\")\n",
        "print(\"Index:\", search_target_in_rotated_sorted_array(nums2, target2))\n",
        "\n",
        "# Example 3: Array not rotated\n",
        "nums3 = [1, 2, 3, 4, 5]\n",
        "target3 = 3\n",
        "print(f\"\\nExample 3: Search for target {target3} in {nums3}\")\n",
        "print(\"Index:\", search_target_in_rotated_sorted_array(nums3, target3))\n",
        "\n",
        "# Example 4: Array with duplicates\n",
        "nums4 = [2, 2, 2, 0, 1]\n",
        "target4 = 1\n",
        "print(f\"\\nExample 4: Search for target {target4} in {nums4}\")\n",
        "print(\"Index:\", search_target_in_rotated_sorted_array(nums4, target4))\n"
      ],
      "metadata": {
        "colab": {
          "base_uri": "https://localhost:8080/"
        },
        "id": "bxteJ9gTNRVi",
        "outputId": "c490af7e-d63d-4b8a-af0d-a8696a711b6e"
      },
      "execution_count": null,
      "outputs": [
        {
          "output_type": "stream",
          "name": "stdout",
          "text": [
            "Example 1: Search for target 0 in [4, 5, 6, 7, 0, 1, 2]\n",
            "Index: 4\n",
            "\n",
            "Example 2: Search for target 3 in [4, 5, 6, 7, 0, 1, 2]\n",
            "Index: -1\n",
            "\n",
            "Example 3: Search for target 3 in [1, 2, 3, 4, 5]\n",
            "Index: 2\n",
            "\n",
            "Example 4: Search for target 1 in [2, 2, 2, 0, 1]\n",
            "Index: 4\n"
          ]
        }
      ]
    },
    {
      "cell_type": "markdown",
      "source": [
        "Problem 17: Find the peak element in an array. A peak element is greater than its neighbors."
      ],
      "metadata": {
        "id": "A216UW5AOHQK"
      }
    },
    {
      "cell_type": "markdown",
      "source": [
        "To find the peak element in an array, we need to identify an element that is greater than its neighbors. A peak element does not necessarily need to be the highest element in the array but must be greater than the elements immediately adjacent to it"
      ],
      "metadata": {
        "id": "-E-hlVrLOVQy"
      }
    },
    {
      "cell_type": "markdown",
      "source": [
        "algo:\n",
        "\n",
        "Check Edge Cases:\n",
        "\n",
        "If the array has only one element, that element is the peak.\n",
        "If the first element is greater than the second, it’s a peak.\n",
        "If the last element is greater than the second last, it’s a peak.\n",
        "\n",
        "\n",
        "Binary Search:\n",
        "\n",
        "For a general case with more than two elements, use binary search to efficiently find a peak.\n",
        "Compare the middle element with its neighbors.\n",
        "If the middle element is greater than or equal to both neighbors, it’s a peak.\n",
        "If the middle element is less than the left neighbor, search the left half.\n",
        "If the middle element is less than the right neighbor, search the right half."
      ],
      "metadata": {
        "id": "kHuRopf7Oc0Z"
      }
    },
    {
      "cell_type": "code",
      "source": [
        "def find_peak_element(nums):\n",
        "    \"\"\"\n",
        "    Find a peak element in the array. A peak element is greater than its neighbors.\n",
        "\n",
        "\n",
        "    \"\"\"\n",
        "    def binary_search_peak(left, right):\n",
        "        if left == right:\n",
        "            return nums[left]\n",
        "\n",
        "        mid = (left + right) // 2\n",
        "\n",
        "        if nums[mid] > nums[mid - 1] and nums[mid] > nums[mid + 1]:\n",
        "            return nums[mid]\n",
        "        elif nums[mid] > nums[mid - 1]:\n",
        "            return binary_search_peak(mid + 1, right)\n",
        "        else:\n",
        "            return binary_search_peak(left, mid - 1)\n",
        "\n",
        "    if not nums:\n",
        "        return None  # Handle empty array case\n",
        "\n",
        "    n = len(nums)\n",
        "\n",
        "    # Handle edge cases\n",
        "    if n == 1:\n",
        "        return nums[0]\n",
        "    if nums[0] > nums[1]:\n",
        "        return nums[0]\n",
        "    if nums[-1] > nums[-2]:\n",
        "        return nums[-1]\n",
        "\n",
        "    return binary_search_peak(1, n - 2)\n",
        "\n",
        "# Example usage\n",
        "# Example 1: Peak element present in the array\n",
        "nums1 = [1, 3, 20, 4, 1]\n",
        "print(\"Example 1: Peak element in\", nums1)\n",
        "print(\"Peak element:\", find_peak_element(nums1))\n",
        "\n",
        "# Example 2: Peak element at the beginning\n",
        "nums2 = [10, 20, 15, 2, 23, 90, 67]\n",
        "print(\"\\nExample 2: Peak element in\", nums2)\n",
        "print(\"Peak element:\", find_peak_element(nums2))\n",
        "\n",
        "# Example 3: Peak element at the end\n",
        "nums3 = [1, 2, 3, 4, 5, 6, 7]\n",
        "print(\"\\nExample 3: Peak element in\", nums3)\n",
        "print(\"Peak element:\", find_peak_element(nums3))\n",
        "\n",
        "# Example 4: All elements are the same\n",
        "nums4 = [5, 5, 5, 5, 5]\n",
        "print(\"\\nExample 4: Peak element in\", nums4)\n",
        "print(\"Peak element:\", find_peak_element(nums4))\n"
      ],
      "metadata": {
        "colab": {
          "base_uri": "https://localhost:8080/"
        },
        "id": "8W9kbQSBOD0y",
        "outputId": "f8261966-cfb3-4abf-fead-91a51019bfa6"
      },
      "execution_count": null,
      "outputs": [
        {
          "output_type": "stream",
          "name": "stdout",
          "text": [
            "Example 1: Peak element in [1, 3, 20, 4, 1]\n",
            "Peak element: 20\n",
            "\n",
            "Example 2: Peak element in [10, 20, 15, 2, 23, 90, 67]\n",
            "Peak element: 20\n",
            "\n",
            "Example 3: Peak element in [1, 2, 3, 4, 5, 6, 7]\n",
            "Peak element: 7\n",
            "\n",
            "Example 4: Peak element in [5, 5, 5, 5, 5]\n",
            "Peak element: 5\n"
          ]
        }
      ]
    },
    {
      "cell_type": "markdown",
      "source": [
        "Problem 18: Given a m x n matrix where each row and column is sorted in ascending order, count the number\n",
        "of negative numbers."
      ],
      "metadata": {
        "id": "fqMgyVDqO6_4"
      }
    },
    {
      "cell_type": "markdown",
      "source": [
        "To count the number of negative numbers in a sorted\n",
        "𝑚\n",
        "×\n",
        "𝑛\n",
        " matrix where each row and column is sorted in ascending order, you can leverage the matrix's sorted properties to achieve an efficient solution.\n",
        "\n",
        "\n",
        "Approach\n",
        "Start from the Top-Right Corner:\n",
        "\n",
        "Begin from the top-right corner of the matrix.\n",
        "If the current element is negative, it means all elements to its left in the same row are also negative. Count all such elements and move one row down to continue.\n",
        "\n",
        "If the current element is non-negative, move one column left to find a potential negative number.\n",
        "\n",
        "Efficient Traversal:\n",
        "\n",
        "This approach ensures you traverse each row and column at most once, leading to a time complexity of\n",
        "𝑂\n",
        "(\n",
        "𝑚\n",
        "+\n",
        "𝑛\n",
        ")\n",
        ", where\n",
        "\n",
        "m is the number of rows and\n",
        "\n",
        "n is the number of columns."
      ],
      "metadata": {
        "id": "Atvgeq9gPE6g"
      }
    },
    {
      "cell_type": "code",
      "source": [
        "def count_negative_numbers(matrix):\n",
        "    \"\"\"\n",
        "    Count the number of negative numbers in a sorted m x n matrix.\n",
        "\n",
        "\n",
        "    \"\"\"\n",
        "    if not matrix or not matrix[0]:\n",
        "        return 0\n",
        "\n",
        "    m, n = len(matrix), len(matrix[0])\n",
        "    count = 0\n",
        "    row, col = 0, n - 1\n",
        "\n",
        "    while row < m and col >= 0:\n",
        "        if matrix[row][col] < 0:\n",
        "            # All elements in the current column are negative\n",
        "            count += (col + 1)\n",
        "            # Move to the next row\n",
        "            row += 1\n",
        "        else:\n",
        "            # Move left in the current row\n",
        "            col -= 1\n",
        "\n",
        "    return count\n",
        "\n",
        "# Example usage\n",
        "# Example 1: Matrix with some negative numbers\n",
        "matrix1 = [\n",
        "    [1, 2, 3, -1],\n",
        "    [2, 3, -1, -2],\n",
        "    [3, -1, -2, -3]\n",
        "]\n",
        "print(\"Example 1: Count of negative numbers in the matrix\")\n",
        "print(count_negative_numbers(matrix1))\n",
        "\n",
        "# Example 2: Matrix with all negative numbers\n",
        "matrix2 = [\n",
        "    [-1, -2, -3],\n",
        "    [-4, -5, -6],\n",
        "    [-7, -8, -9]\n",
        "]\n",
        "print(\"\\nExample 2: Count of negative numbers in the matrix\")\n",
        "print(count_negative_numbers(matrix2))\n",
        "\n",
        "# Example 3: Matrix with no negative numbers\n",
        "matrix3 = [\n",
        "    [1, 2, 3],\n",
        "    [4, 5, 6],\n",
        "    [7, 8, 9]\n",
        "]\n",
        "print(\"\\nExample 3: Count of negative numbers in the matrix\")\n",
        "print(count_negative_numbers(matrix3))\n",
        "\n",
        "# Example 4: Empty matrix\n",
        "matrix4 = []\n",
        "print(\"\\nExample 4: Count of negative numbers in the matrix\")\n",
        "print(count_negative_numbers(matrix4))\n"
      ],
      "metadata": {
        "colab": {
          "base_uri": "https://localhost:8080/"
        },
        "id": "BUR4M5ZgOzuw",
        "outputId": "23c58a92-2497-46ab-e5e7-47687426eda6"
      },
      "execution_count": null,
      "outputs": [
        {
          "output_type": "stream",
          "name": "stdout",
          "text": [
            "Example 1: Count of negative numbers in the matrix\n",
            "12\n",
            "\n",
            "Example 2: Count of negative numbers in the matrix\n",
            "9\n",
            "\n",
            "Example 3: Count of negative numbers in the matrix\n",
            "0\n",
            "\n",
            "Example 4: Count of negative numbers in the matrix\n",
            "0\n"
          ]
        }
      ]
    },
    {
      "cell_type": "markdown",
      "source": [
        "Problem 19: Given a 2D matrix sorted in ascending order in each row, and the first integer of each row is\n",
        "greater than the last integer of the previous row, determine if a target value is present in the matrix."
      ],
      "metadata": {
        "id": "0aMaA-YmPYHd"
      }
    },
    {
      "cell_type": "code",
      "source": [
        "def search_matrix(matrix, target):\n",
        "    \"\"\"\n",
        "    Search for a target value in a 2D matrix where each row is sorted and the first integer of each row is greater\n",
        "    than the last integer of the previous row.\n",
        "    \"\"\"\n",
        "    if not matrix or not matrix[0]:\n",
        "        return False\n",
        "\n",
        "    m, n = len(matrix), len(matrix[0])\n",
        "    left, right = 0, m * n - 1\n",
        "\n",
        "    while left <= right:\n",
        "        mid = (left + right) // 2\n",
        "        mid_value = matrix[mid // n][mid % n]\n",
        "\n",
        "        if mid_value == target:\n",
        "            return True\n",
        "        elif mid_value < target:\n",
        "            left = mid + 1\n",
        "        else:\n",
        "            right = mid - 1\n",
        "\n",
        "    return False\n",
        "\n",
        "# Example usage\n",
        "# Example 1: Target is present in the matrix\n",
        "matrix1 = [\n",
        "    [1, 4, 7, 11],\n",
        "    [2, 5, 8, 12],\n",
        "    [3, 6, 9, 16],\n",
        "    [10, 13, 14, 17]\n",
        "]\n",
        "target1 = 5\n",
        "print(\"Example 1: Search for target\", target1, \"in the matrix\")\n",
        "print(\"Target found:\", search_matrix(matrix1, target1))\n",
        "\n",
        "# Example 2: Target is not present in the matrix\n",
        "matrix2 = [\n",
        "    [1, 4, 7, 11],\n",
        "    [2, 5, 8, 12],\n",
        "    [3, 6, 9, 16],\n",
        "    [10, 13, 14, 17]\n",
        "]\n",
        "target2 = 15\n",
        "print(\"\\nExample 2: Search for target\", target2, \"in the matrix\")\n",
        "print(\"Target found:\", search_matrix(matrix2, target2))\n",
        "\n",
        "# Example 3: Matrix with only one element\n",
        "matrix3 = [\n",
        "    [5]\n",
        "]\n",
        "target3 = 5\n",
        "print(\"\\nExample 3: Search for target\", target3, \"in the matrix\")\n",
        "print(\"Target found:\", search_matrix(matrix3, target3))\n",
        "\n",
        "# Example 4: Empty matrix\n",
        "matrix4 = []\n",
        "target4 = 3\n",
        "print(\"\\nExample 4: Search for target\", target4, \"in the matrix\")\n",
        "print(\"Target found:\", search_matrix(matrix4, target4))\n"
      ],
      "metadata": {
        "colab": {
          "base_uri": "https://localhost:8080/"
        },
        "id": "RKJEDbNUPVn-",
        "outputId": "0a2ac78f-1079-4787-aad3-2bbc581a1ef9"
      },
      "execution_count": null,
      "outputs": [
        {
          "output_type": "stream",
          "name": "stdout",
          "text": [
            "Example 1: Search for target 5 in the matrix\n",
            "Target found: False\n",
            "\n",
            "Example 2: Search for target 15 in the matrix\n",
            "Target found: False\n",
            "\n",
            "Example 3: Search for target 5 in the matrix\n",
            "Target found: True\n",
            "\n",
            "Example 4: Search for target 3 in the matrix\n",
            "Target found: False\n"
          ]
        }
      ]
    },
    {
      "cell_type": "markdown",
      "source": [
        "Problem 20: Find Median in Two Sorted Arrays\n",
        "Problem: Given two sorted arrays, find the median of the combined sorted array."
      ],
      "metadata": {
        "id": "qp_R9mTePoM-"
      }
    },
    {
      "cell_type": "markdown",
      "source": [
        "to find  the median of two sorted arrays can be efficiently solved using a binary search approach. This problem is often referred to as \"Median of Two Sorted Arrays\" and can be tackled with a time complexity of\n",
        "𝑂\n",
        "(\n",
        "log\n",
        "⁡\n",
        "(\n",
        "min\n",
        "⁡\n",
        "(\n",
        "𝑚\n",
        ",\n",
        "𝑛\n",
        ")\n",
        ")\n",
        ")\n",
        ", where\n",
        "𝑚\n",
        "and\n",
        "\n",
        "n are the lengths of the two arrays.\n",
        "\n",
        "Approach\n",
        "\n",
        "Binary Search on the Shorter Array:\n",
        "\n",
        "To ensure efficiency, perform binary search on the shorter of the two arrays. Let's denote the two arrays as A and B, with A being the shorter array.\n",
        "Partition the Arrays:\n",
        "\n",
        "Use binary search to partition A and B such that the combined left part of both arrays has the same number of elements as the combined right part (or one more element if the total number is odd).\n",
        "\n",
        "Adjust Partitions:\n",
        "\n",
        "Ensure that the maximum value on the left side is less than or equal to the minimum value on the right side for both partitions.\n",
        "\n",
        "Compute the Median:\n",
        "\n",
        "If the total number of elements is odd, the median is the maximum of the left parts.\n",
        "If even, it is the average of the maximum of the left parts and the minimum of the right parts."
      ],
      "metadata": {
        "id": "zEWdL015P9W1"
      }
    },
    {
      "cell_type": "code",
      "source": [
        "def find_median_sorted_arrays(A, B):\n",
        "    \"\"\"\n",
        "    Find the median of two sorted arrays.\n",
        "\n",
        "    Args:\n",
        "    A (List[int]): First sorted array.\n",
        "    B (List[int]): Second sorted array.\n",
        "\n",
        "    Returns:\n",
        "    float: The median of the two sorted arrays.\n",
        "    \"\"\"\n",
        "    # Ensure A is the smaller array\n",
        "    if len(A) > len(B):\n",
        "        A, B = B, A\n",
        "\n",
        "    m, n = len(A), len(B)\n",
        "    imin, imax, half_len = 0, m, (m + n + 1) // 2\n",
        "\n",
        "    while imin <= imax:\n",
        "        i = (imin + imax) // 2\n",
        "        j = half_len - i\n",
        "\n",
        "        if i < m and B[j-1] > A[i]:\n",
        "            imin = i + 1\n",
        "        elif i > 0 and A[i-1] > B[j]:\n",
        "            imax = i - 1\n",
        "        else:\n",
        "            if i == 0: max_of_left = B[j-1]\n",
        "            elif j == 0: max_of_left = A[i-1]\n",
        "            else: max_of_left = max(A[i-1], B[j-1])\n",
        "\n",
        "            if (m + n) % 2 == 1:\n",
        "                return max_of_left\n",
        "\n",
        "            if i == m: min_of_right = B[j]\n",
        "            elif j == n: min_of_right = A[i]\n",
        "            else: min_of_right = min(A[i], B[j])\n",
        "\n",
        "            return (max_of_left + min_of_right) / 2.0\n",
        "\n",
        "# Example usage\n",
        "# Example 1: Both arrays of different lengths\n",
        "A1 = [1, 3]\n",
        "B1 = [2]\n",
        "print(\"Example 1: Median of\", A1, \"and\", B1)\n",
        "print(\"Median:\", find_median_sorted_arrays(A1, B1))\n",
        "\n",
        "# Example 2: Both arrays of same length\n",
        "A2 = [1, 2]\n",
        "B2 = [3, 4]\n",
        "print(\"\\nExample 2: Median of\", A2, \"and\", B2)\n",
        "print(\"Median:\", find_median_sorted_arrays(A2, B2))\n",
        "\n",
        "# Example 3: Arrays with overlapping elements\n",
        "A3 = [1, 2, 5]\n",
        "B3 = [3, 4, 6]\n",
        "print(\"\\nExample 3: Median of\", A3, \"and\", B3)\n",
        "print(\"Median:\", find_median_sorted_arrays(A3, B3))\n",
        "\n",
        "# Example 4: Arrays with negative numbers\n",
        "A4 = [-5, -3, 0]\n",
        "B4 = [-2, 1, 3]\n",
        "print(\"\\nExample 4: Median of\", A4, \"and\", B4)\n",
        "print(\"Median:\", find_median_sorted_arrays(A4, B4))\n"
      ],
      "metadata": {
        "colab": {
          "base_uri": "https://localhost:8080/"
        },
        "id": "JexA6JmxPmh4",
        "outputId": "b8031994-7a13-476e-f195-f543485718a7"
      },
      "execution_count": null,
      "outputs": [
        {
          "output_type": "stream",
          "name": "stdout",
          "text": [
            "Example 1: Median of [1, 3] and [2]\n",
            "Median: 2\n",
            "\n",
            "Example 2: Median of [1, 2] and [3, 4]\n",
            "Median: 2.5\n",
            "\n",
            "Example 3: Median of [1, 2, 5] and [3, 4, 6]\n",
            "Median: 3.5\n",
            "\n",
            "Example 4: Median of [-5, -3, 0] and [-2, 1, 3]\n",
            "Median: -1.0\n"
          ]
        }
      ]
    },
    {
      "cell_type": "markdown",
      "source": [
        "Problem 21: Given a sorted character array and a target letter, find the smallest letter in the array that is\n",
        "greater than the target."
      ],
      "metadata": {
        "id": "LP5yOXMNQS8Q"
      }
    },
    {
      "cell_type": "code",
      "source": [
        "def next_greatest_letter(letters, target):\n",
        "    \"\"\"\n",
        "    Find the smallest letter in a sorted character array that is greater than the target letter.\n",
        "\n",
        "    Args:\n",
        "    letters (List[str]): Sorted list of characters.\n",
        "    target (str): The target letter to compare with.\n",
        "\n",
        "    Returns:\n",
        "    str: The smallest letter greater than the target letter.\n",
        "    \"\"\"\n",
        "    left, right = 0, len(letters)\n",
        "\n",
        "    while left < right:\n",
        "        mid = (left + right) // 2\n",
        "        if letters[mid] <= target:\n",
        "            left = mid + 1\n",
        "        else:\n",
        "            right = mid\n",
        "\n",
        "    # Use modulo to handle the case where no letter is greater than the target\n",
        "    return letters[left % len(letters)]\n",
        "\n",
        "# Example usage\n",
        "# Example 1: Target letter is less than some characters\n",
        "letters1 = ['c', 'f', 'j']\n",
        "target1 = 'a'\n",
        "print(\"Example 1: Next greatest letter after\", target1, \"in\", letters1)\n",
        "print(\"Next greatest letter:\", next_greatest_letter(letters1, target1))\n",
        "\n",
        "# Example 2: Target letter is within the range of characters\n",
        "letters2 = ['c', 'f', 'j']\n",
        "target2 = 'c'\n",
        "print(\"\\nExample 2: Next greatest letter after\", target2, \"in\", letters2)\n",
        "print(\"Next greatest letter:\", next_greatest_letter(letters2, target2))\n",
        "\n",
        "# Example 3: Target letter is greater than all characters\n",
        "letters3 = ['c', 'f', 'j']\n",
        "target3 = 'k'\n",
        "print(\"\\nExample 3: Next greatest letter after\", target3, \"in\", letters3)\n",
        "print(\"Next greatest letter:\", next_greatest_letter(letters3, target3))\n",
        "\n",
        "# Example 4: Target letter is greater than some characters but less than others\n",
        "letters4 = ['a', 'b', 'c', 'd', 'e', 'f']\n",
        "target4 = 'd'\n",
        "print(\"\\nExample 4: Next greatest letter after\", target4, \"in\", letters4)\n",
        "print(\"Next greatest letter:\", next_greatest_letter(letters4, target4))\n"
      ],
      "metadata": {
        "colab": {
          "base_uri": "https://localhost:8080/"
        },
        "id": "YnNKscIFQQ5A",
        "outputId": "898c5663-9136-4f3f-a230-16b6912ea1d2"
      },
      "execution_count": null,
      "outputs": [
        {
          "output_type": "stream",
          "name": "stdout",
          "text": [
            "Example 1: Next greatest letter after a in ['c', 'f', 'j']\n",
            "Next greatest letter: c\n",
            "\n",
            "Example 2: Next greatest letter after c in ['c', 'f', 'j']\n",
            "Next greatest letter: f\n",
            "\n",
            "Example 3: Next greatest letter after k in ['c', 'f', 'j']\n",
            "Next greatest letter: c\n",
            "\n",
            "Example 4: Next greatest letter after d in ['a', 'b', 'c', 'd', 'e', 'f']\n",
            "Next greatest letter: e\n"
          ]
        }
      ]
    },
    {
      "cell_type": "markdown",
      "source": [
        "This approach efficiently finds the smallest letter greater than the target with a time complexity of\n",
        "𝑂\n",
        "(\n",
        "log\n",
        "⁡\n",
        "𝑛\n",
        ")\n",
        " due to binary search."
      ],
      "metadata": {
        "id": "RF31vJEhQsW6"
      }
    },
    {
      "cell_type": "markdown",
      "source": [
        "Problem 22: Given an array with n objects colored red, white, or blue, sort them in-place so that objects of\n",
        "the same color are adjacent, with the colors in the order red, white, and blue."
      ],
      "metadata": {
        "id": "iU6JyEqMQzLG"
      }
    },
    {
      "cell_type": "markdown",
      "source": [
        "The problem you're referring to is known as the \"Dutch National Flag\" problem, which involves sorting an array with three distinct values. In this case, the values are represented by colors: red, white, and blue. The goal is to sort the array in-place so that all instances of red come first, followed by white, and then blue.\n",
        "\n",
        "\n",
        "Approach\n",
        "\n",
        "Three-Pointer Technique:\n",
        "\n",
        "Use three pointers to keep track of the current position in the array:\n",
        "low to mark the boundary of red.\n",
        "mid to traverse the array.\n",
        "high to mark the boundary of blue.\n",
        "\n",
        "\n",
        "Partitioning:\n",
        "\n",
        "Traverse the array with the mid pointer:\n",
        "If the current element is red (let's say 0), swap it with the element at the low pointer and increment both low and mid.\n",
        "If the current element is white (let's say 1), just move mid forward.\n",
        "If the current element is blue (let's say 2), swap it with the element at the high pointer and decrement high (do not increment mid here because we need to check the new element swapped from high)."
      ],
      "metadata": {
        "id": "LNWBHkjYRF8d"
      }
    },
    {
      "cell_type": "code",
      "source": [
        "def sort_colors(nums):\n",
        "    \"\"\"\n",
        "    Sort the array so that objects of the same color are adjacent, with colors in the order red, white, and blue.\n",
        "    Uses the Dutch National Flag problem solution.\n",
        "\n",
        "    Args:\n",
        "    nums (List[int]): List of integers representing colors (0 for red, 1 for white, 2 for blue).\n",
        "\n",
        "    Returns:\n",
        "    None: The input list is sorted in-place.\n",
        "    \"\"\"\n",
        "    low, mid, high = 0, 0, len(nums) - 1\n",
        "\n",
        "    while mid <= high:\n",
        "        if nums[mid] == 0:\n",
        "            nums[low], nums[mid] = nums[mid], nums[low]\n",
        "            low += 1\n",
        "            mid += 1\n",
        "        elif nums[mid] == 1:\n",
        "            mid += 1\n",
        "        else:\n",
        "            nums[high], nums[mid] = nums[mid], nums[high]\n",
        "            high -= 1\n",
        "\n",
        "# Example usage\n",
        "# Example 1: Typical case with mixed colors\n",
        "nums1 = [2, 0, 2, 1, 1, 0]\n",
        "print(\"Example 1: Original array:\", nums1)\n",
        "sort_colors(nums1)\n",
        "print(\"Sorted array:\", nums1)\n",
        "\n",
        "# Example 2: Array already sorted\n",
        "nums2 = [0, 0, 1, 1, 2, 2]\n",
        "print(\"\\nExample 2: Original array:\", nums2)\n",
        "sort_colors(nums2)\n",
        "print(\"Sorted array:\", nums2)\n",
        "\n",
        "# Example 3: Array with only one color\n",
        "nums3 = [1, 1, 1, 1]\n",
        "print(\"\\nExample 3: Original array:\", nums3)\n",
        "sort_colors(nums3)\n",
        "print(\"Sorted array:\", nums3)\n",
        "\n",
        "# Example 4: Array with two colors\n",
        "nums4 = [2, 0, 1, 2, 1]\n",
        "print(\"\\nExample 4: Original array:\", nums4)\n",
        "sort_colors(nums4)\n",
        "print(\"Sorted array:\", nums4)\n"
      ],
      "metadata": {
        "colab": {
          "base_uri": "https://localhost:8080/"
        },
        "id": "MeX-_NYjQrCL",
        "outputId": "891ec005-7bd3-41f7-8bae-3c89e1372949"
      },
      "execution_count": null,
      "outputs": [
        {
          "output_type": "stream",
          "name": "stdout",
          "text": [
            "Example 1: Original array: [2, 0, 2, 1, 1, 0]\n",
            "Sorted array: [0, 0, 1, 1, 2, 2]\n",
            "\n",
            "Example 2: Original array: [0, 0, 1, 1, 2, 2]\n",
            "Sorted array: [0, 0, 1, 1, 2, 2]\n",
            "\n",
            "Example 3: Original array: [1, 1, 1, 1]\n",
            "Sorted array: [1, 1, 1, 1]\n",
            "\n",
            "Example 4: Original array: [2, 0, 1, 2, 1]\n",
            "Sorted array: [0, 1, 1, 2, 2]\n"
          ]
        }
      ]
    },
    {
      "cell_type": "markdown",
      "source": [
        "This method ensures that the sorting is done in a single pass through the array with a time complexity of\n",
        "𝑂\n",
        "(\n",
        "𝑛\n",
        ")\n",
        " and a space complexity of\n",
        "𝑂\n",
        "(\n",
        "1\n",
        ")\n",
        ", making it highly efficient."
      ],
      "metadata": {
        "id": "ANr4OF9WRQjL"
      }
    },
    {
      "cell_type": "markdown",
      "source": [
        "Problem 23: Find the kth largest element in an unsorted array."
      ],
      "metadata": {
        "id": "lZ5o3XHYRV1A"
      }
    },
    {
      "cell_type": "code",
      "source": [
        "import heapq\n",
        "\n",
        "def find_kth_largest(nums, k):\n",
        "    \"\"\"\n",
        "    Find the k-th largest element in an unsorted array.\n",
        "\n",
        "    Args:\n",
        "    nums (List[int]): The list of integers.\n",
        "    k (int): The k-th largest element to find.\n",
        "\n",
        "    Returns:\n",
        "    int: The k-th largest element.\n",
        "    \"\"\"\n",
        "    min_heap = []\n",
        "\n",
        "    for num in nums:\n",
        "        heapq.heappush(min_heap, num)\n",
        "        if len(min_heap) > k:\n",
        "            heapq.heappop(min_heap)\n",
        "\n",
        "    return min_heap[0]\n",
        "\n",
        "# Example usage\n",
        "# Example 1: General case\n",
        "nums1 = [3, 2, 1, 5, 6, 4]\n",
        "k1 = 2\n",
        "print(\"Example 1: Array:\", nums1)\n",
        "print(\"The\", k1, \"th largest element is:\", find_kth_largest(nums1, k1))\n",
        "\n",
        "# Example 2: Array with negative numbers\n",
        "nums2 = [-1, -2, -3, -4, -5]\n",
        "k2 = 3\n",
        "print(\"\\nExample 2: Array:\", nums2)\n",
        "print(\"The\", k2, \"th largest element is:\", find_kth_largest(nums2, k2))\n",
        "\n",
        "# Example 3: Array with duplicate elements\n",
        "nums3 = [1, 1, 1, 1, 2, 2, 2]\n",
        "k3 = 4\n",
        "print(\"\\nExample 3: Array:\", nums3)\n",
        "print(\"The\", k3, \"th largest element is:\", find_kth_largest(nums3, k3))\n",
        "\n",
        "# Example 4: Array with all elements the same\n",
        "nums4 = [5, 5, 5, 5]\n",
        "k4 = 2\n",
        "print(\"\\nExample 4: Array:\", nums4)\n",
        "print(\"The\", k4, \"th largest element is:\", find_kth_largest(nums4, k4))\n"
      ],
      "metadata": {
        "colab": {
          "base_uri": "https://localhost:8080/"
        },
        "id": "6qeJb-LyROUs",
        "outputId": "7a250bc5-bf21-4ab9-a325-49722bd7ea2f"
      },
      "execution_count": null,
      "outputs": [
        {
          "output_type": "stream",
          "name": "stdout",
          "text": [
            "Example 1: Array: [3, 2, 1, 5, 6, 4]\n",
            "The 2 th largest element is: 5\n",
            "\n",
            "Example 2: Array: [-1, -2, -3, -4, -5]\n",
            "The 3 th largest element is: -3\n",
            "\n",
            "Example 3: Array: [1, 1, 1, 1, 2, 2, 2]\n",
            "The 4 th largest element is: 1\n",
            "\n",
            "Example 4: Array: [5, 5, 5, 5]\n",
            "The 2 th largest element is: 5\n"
          ]
        }
      ]
    },
    {
      "cell_type": "markdown",
      "source": [
        "Problem 24: Given an unsorted array, reorder it in-place such that nums[0] <= nums[1] >= nums[2] <=\n",
        "nums[3]..."
      ],
      "metadata": {
        "id": "VMmCwM-WRpzT"
      }
    },
    {
      "cell_type": "markdown",
      "source": [
        "The problem is to reorder an unsorted array such that it follows the pattern:\n",
        "\n",
        "nums\n",
        "[\n",
        "0\n",
        "]\n",
        "≤\n",
        "nums\n",
        "[\n",
        "1\n",
        "]\n",
        "≥\n",
        "nums\n",
        "[\n",
        "2\n",
        "]\n",
        "≤\n",
        "nums\n",
        "[\n",
        "3\n",
        "]\n",
        "≥\n",
        "nums\n",
        "[\n",
        "4\n",
        "]\n",
        "≤\n",
        "nums\n",
        "[\n",
        "5\n",
        "]\n",
        "…\n",
        "\n",
        "\n",
        "This pattern is often referred to as a \"wiggle sort.\"\n",
        "\n",
        "Approach\n",
        "Iterate through the array:\n",
        "\n",
        "Use a single pass through the array to adjust the elements to fit the required pattern.\n",
        "Adjust Elements:\n",
        "\n",
        "For each even index i, ensure that nums[i] <= nums[i+1].\n",
        "For each odd index i, ensure that nums[i] >= nums[i+1].\n",
        "In-Place Reordering:\n",
        "\n",
        "Swap elements if they do not satisfy the condition for the current index."
      ],
      "metadata": {
        "id": "r3oHZ0UKR_bx"
      }
    },
    {
      "cell_type": "code",
      "source": [
        "def wiggle_sort(nums):\n",
        "    \"\"\"\n",
        "    Reorder the array in-place such that nums[0] <= nums[1] >= nums[2] <= nums[3] >= nums[4] <= nums[5] ...\n",
        "\n",
        "    Args:\n",
        "    nums (List[int]): The list of integers to reorder.\n",
        "\n",
        "    Returns:\n",
        "    None: The input list is reordered in-place.\n",
        "    \"\"\"\n",
        "    # Iterating through the array\n",
        "    for i in range(len(nums) - 1):\n",
        "        if i % 2 == 0:\n",
        "            # Even index: nums[i] should be <= nums[i+1]\n",
        "            if nums[i] > nums[i + 1]:\n",
        "                nums[i], nums[i + 1] = nums[i + 1], nums[i]\n",
        "        else:\n",
        "            # Odd index: nums[i] should be >= nums[i+1]\n",
        "            if nums[i] < nums[i + 1]:\n",
        "                nums[i], nums[i + 1] = nums[i + 1], nums[i]\n",
        "\n",
        "# Example usage\n",
        "# Example 1: General case\n",
        "nums1 = [3, 5, 2, 1, 6, 4]\n",
        "print(\"Example 1: Original array:\", nums1)\n",
        "wiggle_sort(nums1)\n",
        "print(\"Reordered array:\", nums1)\n",
        "\n",
        "# Example 2: Already in the correct pattern\n",
        "nums2 = [1, 3, 2, 6, 4, 5]\n",
        "print(\"\\nExample 2: Original array:\", nums2)\n",
        "wiggle_sort(nums2)\n",
        "print(\"Reordered array:\", nums2)\n",
        "\n",
        "# Example 3: Array with same elements\n",
        "nums3 = [2, 2, 2, 2, 2]\n",
        "print(\"\\nExample 3: Original array:\", nums3)\n",
        "wiggle_sort(nums3)\n",
        "print(\"Reordered array:\", nums3)\n",
        "\n",
        "# Example 4: Array with negative numbers\n",
        "nums4 = [-1, -2, -3, -4, -5, -6]\n",
        "print(\"\\nExample 4: Original array:\", nums4)\n",
        "wiggle_sort(nums4)\n",
        "print(\"Reordered array:\", nums4)\n"
      ],
      "metadata": {
        "colab": {
          "base_uri": "https://localhost:8080/"
        },
        "id": "-BmN7vXXRnos",
        "outputId": "7596916a-a81f-4606-d88e-c2f011e99820"
      },
      "execution_count": null,
      "outputs": [
        {
          "output_type": "stream",
          "name": "stdout",
          "text": [
            "Example 1: Original array: [3, 5, 2, 1, 6, 4]\n",
            "Reordered array: [3, 5, 1, 6, 2, 4]\n",
            "\n",
            "Example 2: Original array: [1, 3, 2, 6, 4, 5]\n",
            "Reordered array: [1, 3, 2, 6, 4, 5]\n",
            "\n",
            "Example 3: Original array: [2, 2, 2, 2, 2]\n",
            "Reordered array: [2, 2, 2, 2, 2]\n",
            "\n",
            "Example 4: Original array: [-1, -2, -3, -4, -5, -6]\n",
            "Reordered array: [-2, -1, -4, -3, -6, -5]\n"
          ]
        }
      ]
    },
    {
      "cell_type": "markdown",
      "source": [
        "This approach has a time complexity of\n",
        "𝑂\n",
        "(\n",
        "𝑛\n",
        ") and a space complexity of\n",
        "𝑂\n",
        "(\n",
        "1\n",
        ")\n",
        ", making it efficient for reordering the array in-place."
      ],
      "metadata": {
        "id": "NyE81i4ASKEI"
      }
    },
    {
      "cell_type": "markdown",
      "source": [
        "Problem 25: Given an array of integers, calculate the sum of all its elements."
      ],
      "metadata": {
        "id": "VaE-PwezSYKN"
      }
    },
    {
      "cell_type": "code",
      "source": [
        "def calculate_sum(nums):\n",
        "    \"\"\"\n",
        "    Calculate the sum of all elements in the array.\n",
        "\n",
        "    Args:\n",
        "    nums (List[int]): The list of integers.\n",
        "\n",
        "    Returns:\n",
        "    int: The sum of all elements in the list.\n",
        "    \"\"\"\n",
        "    total_sum = 0\n",
        "    for num in nums:\n",
        "        total_sum += num\n",
        "    return total_sum\n",
        "\n",
        "# Example usage\n",
        "# Example 1: General case\n",
        "nums1 = [1, 2, 3, 4, 5]\n",
        "print(\"Example 1: Array:\", nums1)\n",
        "print(\"Sum of elements:\", calculate_sum(nums1))\n",
        "\n",
        "# Example 2: Array with negative numbers\n",
        "nums2 = [-1, -2, -3, -4, -5]\n",
        "print(\"\\nExample 2: Array:\", nums2)\n",
        "print(\"Sum of elements:\", calculate_sum(nums2))\n",
        "\n",
        "# Example 3: Array with mixed positive and negative numbers\n",
        "nums3 = [10, -5, 20, -10, 15]\n",
        "print(\"\\nExample 3: Array:\", nums3)\n",
        "print(\"Sum of elements:\", calculate_sum(nums3))\n",
        "\n",
        "# Example 4: Array with a single element\n",
        "nums4 = [42]\n",
        "print(\"\\nExample 4: Array:\", nums4)\n",
        "print(\"Sum of elements:\", calculate_sum(nums4))\n",
        "\n",
        "# Example 5: Array with zeros\n",
        "nums5 = [0, 0, 0, 0]\n",
        "print(\"\\nExample 5: Array:\", nums5)\n",
        "print(\"Sum of elements:\", calculate_sum(nums5))\n"
      ],
      "metadata": {
        "colab": {
          "base_uri": "https://localhost:8080/"
        },
        "id": "qxL7MYVzSJMF",
        "outputId": "a9dc9a8d-0287-46c0-a7ed-8352f83b51a7"
      },
      "execution_count": null,
      "outputs": [
        {
          "output_type": "stream",
          "name": "stdout",
          "text": [
            "Example 1: Array: [1, 2, 3, 4, 5]\n",
            "Sum of elements: 15\n",
            "\n",
            "Example 2: Array: [-1, -2, -3, -4, -5]\n",
            "Sum of elements: -15\n",
            "\n",
            "Example 3: Array: [10, -5, 20, -10, 15]\n",
            "Sum of elements: 30\n",
            "\n",
            "Example 4: Array: [42]\n",
            "Sum of elements: 42\n",
            "\n",
            "Example 5: Array: [0, 0, 0, 0]\n",
            "Sum of elements: 0\n"
          ]
        }
      ]
    },
    {
      "cell_type": "markdown",
      "source": [
        "Problem 26: Find the maximum element in an array of integers."
      ],
      "metadata": {
        "id": "ofgdsrD4SmsX"
      }
    },
    {
      "cell_type": "code",
      "source": [
        "def find_maximum(nums):\n",
        "    \"\"\"\n",
        "    Find the maximum element in the array.\n",
        "\n",
        "    Args:\n",
        "    nums (List[int]): The list of integers.\n",
        "\n",
        "    Returns:\n",
        "    int: The maximum element in the list.\n",
        "    \"\"\"\n",
        "    if not nums:\n",
        "        raise ValueError(\"The array is empty\")\n",
        "\n",
        "    max_element = nums[0]\n",
        "    for num in nums:\n",
        "        if num > max_element:\n",
        "            max_element = num\n",
        "    return max_element\n",
        "\n",
        "# Example usage\n",
        "# Example 1: General case\n",
        "nums1 = [1, 3, 5, 2, 4]\n",
        "print(\"Example 1: Array:\", nums1)\n",
        "print(\"Maximum element:\", find_maximum(nums1))\n",
        "\n",
        "# Example 2: Array with negative numbers\n",
        "nums2 = [-1, -3, -5, -2, -4]\n",
        "print(\"\\nExample 2: Array:\", nums2)\n",
        "print(\"Maximum element:\", find_maximum(nums2))\n",
        "\n",
        "# Example 3: Array with mixed positive and negative numbers\n",
        "nums3 = [10, -5, 20, -10, 15]\n",
        "print(\"\\nExample 3: Array:\", nums3)\n",
        "print(\"Maximum element:\", find_maximum(nums3))\n",
        "\n",
        "# Example 4: Array with a single element\n",
        "nums4 = [42]\n",
        "print(\"\\nExample 4: Array:\", nums4)\n",
        "print(\"Maximum element:\", find_maximum(nums4))\n",
        "\n",
        "# Example 5: Array with all elements the same\n",
        "nums5 = [7, 7, 7, 7]\n",
        "print(\"\\nExample 5: Array:\", nums5)\n",
        "print(\"Maximum element:\", find_maximum(nums5))\n"
      ],
      "metadata": {
        "colab": {
          "base_uri": "https://localhost:8080/"
        },
        "id": "r2EX7VhuSIDX",
        "outputId": "89251656-5116-4942-99b4-75a284aa0113"
      },
      "execution_count": null,
      "outputs": [
        {
          "output_type": "stream",
          "name": "stdout",
          "text": [
            "Example 1: Array: [1, 3, 5, 2, 4]\n",
            "Maximum element: 5\n",
            "\n",
            "Example 2: Array: [-1, -3, -5, -2, -4]\n",
            "Maximum element: -1\n",
            "\n",
            "Example 3: Array: [10, -5, 20, -10, 15]\n",
            "Maximum element: 20\n",
            "\n",
            "Example 4: Array: [42]\n",
            "Maximum element: 42\n",
            "\n",
            "Example 5: Array: [7, 7, 7, 7]\n",
            "Maximum element: 7\n"
          ]
        }
      ]
    },
    {
      "cell_type": "markdown",
      "source": [
        "Problem 27: Implement linear search to find the index of a target element in an array."
      ],
      "metadata": {
        "id": "AWJW4a4IS1xT"
      }
    },
    {
      "cell_type": "code",
      "source": [
        "def linear_search(nums, target):\n",
        "    \"\"\"\n",
        "    Perform linear search to find the index of the target element in the array.\n",
        "\n",
        "    Args:\n",
        "    nums (List[int]): The list of integers.\n",
        "    target (int): The element to search for.\n",
        "\n",
        "    Returns:\n",
        "    int: The index of the target element if found; otherwise, -1.\n",
        "    \"\"\"\n",
        "    for index, num in enumerate(nums):\n",
        "        if num == target:\n",
        "            return index\n",
        "    return -1\n",
        "\n",
        "# Example usage\n",
        "# Example 1: General case\n",
        "nums1 = [4, 2, 7, 1, 3]\n",
        "target1 = 7\n",
        "print(\"Example 1: Array:\", nums1)\n",
        "print(\"Target:\", target1)\n",
        "print(\"Index of target:\", linear_search(nums1, target1))\n",
        "\n",
        "# Example 2: Target not present\n",
        "nums2 = [10, 20, 30, 40, 50]\n",
        "target2 = 25\n",
        "print(\"\\nExample 2: Array:\", nums2)\n",
        "print(\"Target:\", target2)\n",
        "print(\"Index of target:\", linear_search(nums2, target2))\n",
        "\n",
        "# Example 3: Array with negative numbers\n",
        "nums3 = [-5, -1, -7, -3]\n",
        "target3 = -7\n",
        "print(\"\\nExample 3: Array:\", nums3)\n",
        "print(\"Target:\", target3)\n",
        "print(\"Index of target:\", linear_search(nums3, target3))\n",
        "\n",
        "# Example 4: Array with a single element\n",
        "nums4 = [42]\n",
        "target4 = 42\n",
        "print(\"\\nExample 4: Array:\", nums4)\n",
        "print(\"Target:\", target4)\n",
        "print(\"Index of target:\", linear_search(nums4, target4))\n",
        "\n",
        "# Example 5: Empty array\n",
        "nums5 = []\n",
        "target5 = 1\n",
        "print(\"\\nExample 5: Array:\", nums5)\n",
        "print(\"Target:\", target5)\n",
        "print(\"Index of target:\", linear_search(nums5, target5))\n"
      ],
      "metadata": {
        "colab": {
          "base_uri": "https://localhost:8080/"
        },
        "id": "hANErTVnSG-0",
        "outputId": "0966034d-92bc-4c63-edd4-05ff2e534d89"
      },
      "execution_count": null,
      "outputs": [
        {
          "output_type": "stream",
          "name": "stdout",
          "text": [
            "Example 1: Array: [4, 2, 7, 1, 3]\n",
            "Target: 7\n",
            "Index of target: 2\n",
            "\n",
            "Example 2: Array: [10, 20, 30, 40, 50]\n",
            "Target: 25\n",
            "Index of target: -1\n",
            "\n",
            "Example 3: Array: [-5, -1, -7, -3]\n",
            "Target: -7\n",
            "Index of target: 2\n",
            "\n",
            "Example 4: Array: [42]\n",
            "Target: 42\n",
            "Index of target: 0\n",
            "\n",
            "Example 5: Array: []\n",
            "Target: 1\n",
            "Index of target: -1\n"
          ]
        }
      ]
    },
    {
      "cell_type": "code",
      "source": [],
      "metadata": {
        "id": "jKx77R2hS_C-"
      },
      "execution_count": null,
      "outputs": []
    },
    {
      "cell_type": "markdown",
      "source": [
        "This solution has a time complexity of\n",
        "\n",
        "\n",
        "O(n), where\n",
        "\n",
        "n is the number of elements in the array, since it requires a single scan of the array."
      ],
      "metadata": {
        "id": "2C8qUr0jTB4o"
      }
    },
    {
      "cell_type": "markdown",
      "source": [
        "Problem 28 Calculate the factorial of a given number."
      ],
      "metadata": {
        "id": "aFKIHxfhTHl0"
      }
    },
    {
      "cell_type": "code",
      "source": [
        "def factorial_recursive(n):\n",
        "    \"\"\"\n",
        "    Calculate the factorial of a number using a recursive approach.\n",
        "\n",
        "    Args:\n",
        "    n (int): The number to calculate the factorial for.\n",
        "\n",
        "    Returns:\n",
        "    int: The factorial of the number.\n",
        "    \"\"\"\n",
        "    if n < 0:\n",
        "        raise ValueError(\"Factorial is not defined for negative numbers.\")\n",
        "    if n == 0 or n == 1:\n",
        "        return 1\n",
        "    return n * factorial_recursive(n - 1)\n",
        "\n",
        "\n",
        "\n",
        "factorial_recursive(5)"
      ],
      "metadata": {
        "colab": {
          "base_uri": "https://localhost:8080/"
        },
        "id": "k7gQqCAFTCyh",
        "outputId": "70e85526-12f7-46bf-9aa5-4fd5394ce377"
      },
      "execution_count": null,
      "outputs": [
        {
          "output_type": "execute_result",
          "data": {
            "text/plain": [
              "120"
            ]
          },
          "metadata": {},
          "execution_count": 60
        }
      ]
    },
    {
      "cell_type": "markdown",
      "source": [
        "Problem 29: Check if a given number is a prime number."
      ],
      "metadata": {
        "id": "MLXYSxazULUl"
      }
    },
    {
      "cell_type": "code",
      "source": [
        "import math\n",
        "\n",
        "def is_prime(n):\n",
        "    \"\"\"\n",
        "    Check if a given number is a prime number.\n",
        "\n",
        "    Args:\n",
        "    n (int): The number to check.\n",
        "\n",
        "    Returns:\n",
        "    bool: True if the number is prime, False otherwise.\n",
        "    \"\"\"\n",
        "    if n <= 1:\n",
        "        return False\n",
        "    if n <= 3:\n",
        "        return True\n",
        "    if n % 2 == 0 or n % 3 == 0:\n",
        "        return False\n",
        "\n",
        "    i = 5\n",
        "    while i * i <= n:\n",
        "        if n % i == 0 or n % (i + 2) == 0:\n",
        "            return False\n",
        "        i += 6\n",
        "\n",
        "    return True\n",
        "\n",
        "# Example usage\n",
        "# Prime number checking\n",
        "num1 = int(input('enter num:'))\n",
        "print(f\"Is {num1} a prime number? {is_prime(num1)}\")\n",
        "\n",
        "\n",
        "\n"
      ],
      "metadata": {
        "colab": {
          "base_uri": "https://localhost:8080/"
        },
        "id": "txz5boGUUDU9",
        "outputId": "79c57e3c-ac9d-4443-9952-545dfa5c390c"
      },
      "execution_count": null,
      "outputs": [
        {
          "output_type": "stream",
          "name": "stdout",
          "text": [
            "enter num:2\n",
            "Is 2 a prime number? True\n"
          ]
        }
      ]
    },
    {
      "cell_type": "markdown",
      "source": [
        "Problem 30: Generate the Fibonacci series up to a given number n."
      ],
      "metadata": {
        "id": "P2i4nTyhUyF2"
      }
    },
    {
      "cell_type": "code",
      "source": [
        "def generate_fibonacci_count(n):\n",
        "    \"\"\"\n",
        "    Generate the Fibonacci series up to a given count n.\n",
        "\n",
        "    Args:\n",
        "    n (int): The number of Fibonacci numbers to generate.\n",
        "\n",
        "    Returns:\n",
        "    List[int]: The list of the first n Fibonacci numbers.\n",
        "    \"\"\"\n",
        "    if n <= 0:\n",
        "        raise ValueError(\"The count must be a positive integer.\")\n",
        "\n",
        "    fibonacci_series = []\n",
        "    a, b = 0, 1\n",
        "\n",
        "    for _ in range(n):\n",
        "        fibonacci_series.append(a)\n",
        "        a, b = b, a + b\n",
        "\n",
        "    return fibonacci_series\n",
        "\n",
        "n1 = int(input(' enter n value:'))\n",
        "print(f\"First {n1} Fibonacci numbers: {generate_fibonacci_count(n1)}\")\n",
        "\n",
        "\n"
      ],
      "metadata": {
        "colab": {
          "base_uri": "https://localhost:8080/"
        },
        "id": "pPjyzM-NVR1D",
        "outputId": "9b4cbf3a-d4cf-4f4d-f4ae-b25b2e305c5c"
      },
      "execution_count": null,
      "outputs": [
        {
          "output_type": "stream",
          "name": "stdout",
          "text": [
            " enter n value:3\n",
            "First 3 Fibonacci numbers: [0, 1, 1]\n"
          ]
        }
      ]
    },
    {
      "cell_type": "markdown",
      "source": [
        "Problem 31: Calculate the power of a number using recursion."
      ],
      "metadata": {
        "id": "S8XL4UoVVsN1"
      }
    },
    {
      "cell_type": "code",
      "source": [
        "def power(a, b):\n",
        "    \"\"\"\n",
        "    Calculate the power of a number using recursion.\n",
        "\n",
        "    Args:\n",
        "    a (int or float): The base number.\n",
        "    b (int): The exponent.\n",
        "\n",
        "    Returns:\n",
        "    int or float: The result of a raised to the power of b.\n",
        "    \"\"\"\n",
        "    # Base case: exponent is 0\n",
        "    if b == 0:\n",
        "        return 1\n",
        "    # Base case: exponent is 1\n",
        "    if b == 1:\n",
        "        return a\n",
        "    # Recursive case\n",
        "    return a * power(a, b - 1)\n",
        "\n",
        "\n",
        "base1 = int(input(' enter base value:'))\n",
        "exp1 = int(input('enter exponennt value:'))\n",
        "print(f\"{base1}^{exp1} = {power(base1, exp1)}\")\n",
        "\n",
        "\n"
      ],
      "metadata": {
        "colab": {
          "base_uri": "https://localhost:8080/"
        },
        "id": "jrAdgxPTVooB",
        "outputId": "811dce65-8859-4d02-90e9-51c98e813417"
      },
      "execution_count": null,
      "outputs": [
        {
          "output_type": "stream",
          "name": "stdout",
          "text": [
            " enter base value:2\n",
            "enter exponennt value:3\n",
            "2^3 = 8\n"
          ]
        }
      ]
    },
    {
      "cell_type": "markdown",
      "source": [
        "Problem 32: Reverse a given string."
      ],
      "metadata": {
        "id": "q7biLne5WH0E"
      }
    },
    {
      "cell_type": "code",
      "source": [
        "def reverse_string_slicing(s):\n",
        "    \"\"\"\n",
        "    Reverse a given string using slicing.\n",
        "\n",
        "    Args:\n",
        "    s (str): The string to reverse.\n",
        "\n",
        "    Returns:\n",
        "    str: The reversed string.\n",
        "    \"\"\"\n",
        "    return s[::-1]\n",
        "\n",
        "\n",
        "s1 = input(' enter string to be reverse:')\n",
        "print(f\"Reversed string: {reverse_string_slicing(s1)}\")\n"
      ],
      "metadata": {
        "colab": {
          "base_uri": "https://localhost:8080/"
        },
        "id": "zwvTDzRYWBX3",
        "outputId": "0ec029fc-73b4-4cda-b83d-1a7bd816dfa7"
      },
      "execution_count": null,
      "outputs": [
        {
          "output_type": "stream",
          "name": "stdout",
          "text": [
            " enter string to be reverse:pw skills\n",
            "Reversed string: slliks wp\n"
          ]
        }
      ]
    },
    {
      "cell_type": "code",
      "source": [],
      "metadata": {
        "id": "VzkQfbtwWVHK"
      },
      "execution_count": null,
      "outputs": []
    }
  ]
}